{
  "nbformat": 4,
  "nbformat_minor": 0,
  "metadata": {
    "colab": {
      "name": "SparkCourse.ipynb",
      "provenance": [],
      "authorship_tag": "ABX9TyPYn7ohbNOJA50RIuMEfMOm",
      "include_colab_link": true
    },
    "kernelspec": {
      "name": "python3",
      "display_name": "Python 3"
    },
    "language_info": {
      "name": "python"
    }
  },
  "cells": [
    {
      "cell_type": "markdown",
      "metadata": {
        "id": "view-in-github",
        "colab_type": "text"
      },
      "source": [
        "<a href=\"https://colab.research.google.com/github/xambert/Scalable-ML-using-ApacheSpark/blob/main/SparkCourse.ipynb\" target=\"_parent\"><img src=\"https://colab.research.google.com/assets/colab-badge.svg\" alt=\"Open In Colab\"/></a>"
      ]
    },
    {
      "cell_type": "markdown",
      "source": [
        "# **Week -1**"
      ],
      "metadata": {
        "id": "JvZsvjuJVwWb"
      }
    },
    {
      "cell_type": "markdown",
      "source": [
        "**Ex-1**"
      ],
      "metadata": {
        "id": "L9O43ENJV5r4"
      }
    },
    {
      "cell_type": "code",
      "source": [
        "!pip install pyspark"
      ],
      "metadata": {
        "colab": {
          "base_uri": "https://localhost:8080/"
        },
        "id": "9UNuZobwMQfr",
        "outputId": "5212c3bc-4cf0-49c2-ae0f-27618b5fdb74"
      },
      "execution_count": 1,
      "outputs": [
        {
          "output_type": "stream",
          "name": "stdout",
          "text": [
            "Collecting pyspark\n",
            "  Downloading pyspark-3.2.1.tar.gz (281.4 MB)\n",
            "\u001b[K     |████████████████████████████████| 281.4 MB 38 kB/s \n",
            "\u001b[?25hCollecting py4j==0.10.9.3\n",
            "  Downloading py4j-0.10.9.3-py2.py3-none-any.whl (198 kB)\n",
            "\u001b[K     |████████████████████████████████| 198 kB 58.8 MB/s \n",
            "\u001b[?25hBuilding wheels for collected packages: pyspark\n",
            "  Building wheel for pyspark (setup.py) ... \u001b[?25l\u001b[?25hdone\n",
            "  Created wheel for pyspark: filename=pyspark-3.2.1-py2.py3-none-any.whl size=281853642 sha256=77f1c0e2e8411d1735234f09443ecb6b42876ca0761e4b89a0f16e4fb95d6f72\n",
            "  Stored in directory: /root/.cache/pip/wheels/9f/f5/07/7cd8017084dce4e93e84e92efd1e1d5334db05f2e83bcef74f\n",
            "Successfully built pyspark\n",
            "Installing collected packages: py4j, pyspark\n",
            "Successfully installed py4j-0.10.9.3 pyspark-3.2.1\n"
          ]
        }
      ]
    },
    {
      "cell_type": "markdown",
      "source": [
        "**SparkContext** : Tells Spark how to access a cluster \\\\\n",
        "**SparkConf** : Object that contains information about your application"
      ],
      "metadata": {
        "id": "mxOjgzYmN1hQ"
      }
    },
    {
      "cell_type": "code",
      "execution_count": 2,
      "metadata": {
        "id": "hI2EnEwaMFTX"
      },
      "outputs": [],
      "source": [
        "from pyspark import SparkContext, SparkConf\n",
        "from pyspark.sql import SparkSession\n",
        "spark = SparkSession.builder.getOrCreate()"
      ]
    },
    {
      "cell_type": "markdown",
      "source": [
        ""
      ],
      "metadata": {
        "id": "-zi660VrOQr-"
      }
    },
    {
      "cell_type": "code",
      "source": [
        "sc = SparkContext.getOrCreate(SparkConf().setMaster(\"local[*]\"))"
      ],
      "metadata": {
        "id": "lN6N8o6KMME5"
      },
      "execution_count": 3,
      "outputs": []
    },
    {
      "cell_type": "code",
      "source": [
        "rdd = sc.parallelize(range(100))"
      ],
      "metadata": {
        "id": "ZKOcRXXhNh6P"
      },
      "execution_count": null,
      "outputs": []
    },
    {
      "cell_type": "code",
      "source": [
        "rdd.count()"
      ],
      "metadata": {
        "colab": {
          "base_uri": "https://localhost:8080/"
        },
        "id": "L_7mlI5MNovC",
        "outputId": "02c61056-1088-46f3-c2b3-521283345e8e"
      },
      "execution_count": null,
      "outputs": [
        {
          "output_type": "execute_result",
          "data": {
            "text/plain": [
              "100"
            ]
          },
          "metadata": {},
          "execution_count": 5
        }
      ]
    },
    {
      "cell_type": "code",
      "source": [
        "rdd.sum()"
      ],
      "metadata": {
        "colab": {
          "base_uri": "https://localhost:8080/"
        },
        "id": "nU_-tgn0NqMd",
        "outputId": "2acd65a7-d762-4e1b-ae2e-753e09c2463d"
      },
      "execution_count": null,
      "outputs": [
        {
          "output_type": "execute_result",
          "data": {
            "text/plain": [
              "4950"
            ]
          },
          "metadata": {},
          "execution_count": 6
        }
      ]
    },
    {
      "cell_type": "markdown",
      "source": [
        "**Functional Programming - Ex-2**"
      ],
      "metadata": {
        "id": "bQCYzuc-V-Pn"
      }
    },
    {
      "cell_type": "code",
      "source": [
        "def gt50(i):\n",
        "  return i>50"
      ],
      "metadata": {
        "id": "1IIaOMwKNtXw"
      },
      "execution_count": null,
      "outputs": []
    },
    {
      "cell_type": "code",
      "source": [
        "gt50 = lambda i : i>50"
      ],
      "metadata": {
        "id": "fOU6LCCeQ9sI"
      },
      "execution_count": null,
      "outputs": []
    },
    {
      "cell_type": "code",
      "source": [
        "from random import shuffle\n",
        "l = list(range(100))\n",
        "shuffle(l)\n",
        "rdd_1 = sc.parallelize(l)"
      ],
      "metadata": {
        "id": "-AGFCzJnRHSn"
      },
      "execution_count": null,
      "outputs": []
    },
    {
      "cell_type": "code",
      "source": [
        "rdd_1.filter(gt50).take(5)"
      ],
      "metadata": {
        "colab": {
          "base_uri": "https://localhost:8080/"
        },
        "id": "1JHBgLNERzla",
        "outputId": "5a296f88-952f-4b4e-8df7-a073e02e61cc"
      },
      "execution_count": null,
      "outputs": [
        {
          "output_type": "execute_result",
          "data": {
            "text/plain": [
              "[86, 58, 94, 95, 64]"
            ]
          },
          "metadata": {},
          "execution_count": 10
        }
      ]
    },
    {
      "cell_type": "code",
      "source": [
        "#50<i<75\n",
        "\n",
        "rdd_1.filter(lambda i : 50<i<75).sum()"
      ],
      "metadata": {
        "colab": {
          "base_uri": "https://localhost:8080/"
        },
        "id": "Ww1kVWBSSK0l",
        "outputId": "c99f90b3-0b02-49af-a3f8-da1ca42b6e22"
      },
      "execution_count": null,
      "outputs": [
        {
          "output_type": "execute_result",
          "data": {
            "text/plain": [
              "1500"
            ]
          },
          "metadata": {},
          "execution_count": 11
        }
      ]
    },
    {
      "cell_type": "markdown",
      "source": [
        "**Sql - Ex-3**"
      ],
      "metadata": {
        "id": "tzNNZ8cPWFRf"
      }
    },
    {
      "cell_type": "code",
      "source": [
        "\n",
        "\n",
        "from pyspark.sql import Row\n",
        "\n",
        "df = spark.createDataFrame([Row(id=1, value='value1'),Row(id=2, value='value2')])\n",
        "\n",
        "# let's have a look what's inside\n",
        "df.show()\n",
        "\n",
        "# let's print the schema\n",
        "df.printSchema()"
      ],
      "metadata": {
        "colab": {
          "base_uri": "https://localhost:8080/"
        },
        "id": "Z2iBOVzXSm_m",
        "outputId": "a0629cad-e009-42f3-b6c1-f136e1f4109b"
      },
      "execution_count": null,
      "outputs": [
        {
          "output_type": "stream",
          "name": "stdout",
          "text": [
            "+---+------+\n",
            "| id| value|\n",
            "+---+------+\n",
            "|  1|value1|\n",
            "|  2|value2|\n",
            "+---+------+\n",
            "\n",
            "root\n",
            " |-- id: long (nullable = true)\n",
            " |-- value: string (nullable = true)\n",
            "\n"
          ]
        }
      ]
    },
    {
      "cell_type": "code",
      "source": [
        "# register dataframe as query table\n",
        "df.createOrReplaceTempView('df_view')\n",
        "\n",
        "# execute SQL query\n",
        "df_result = spark.sql('select value from df_view where id=2')\n",
        "\n",
        "# examine contents of result\n",
        "df_result.show()\n",
        "\n",
        "# get result as string\n",
        "df_result.first().value\n",
        "\n"
      ],
      "metadata": {
        "colab": {
          "base_uri": "https://localhost:8080/",
          "height": 140
        },
        "id": "ASBLBUBuUQ8D",
        "outputId": "5f480505-e4d2-4f5d-9741-44085de3051f"
      },
      "execution_count": null,
      "outputs": [
        {
          "output_type": "stream",
          "name": "stdout",
          "text": [
            "+------+\n",
            "| value|\n",
            "+------+\n",
            "|value2|\n",
            "+------+\n",
            "\n"
          ]
        },
        {
          "output_type": "execute_result",
          "data": {
            "application/vnd.google.colaboratory.intrinsic+json": {
              "type": "string"
            },
            "text/plain": [
              "'value2'"
            ]
          },
          "metadata": {},
          "execution_count": 13
        }
      ]
    },
    {
      "cell_type": "markdown",
      "source": [
        "Number of rows in a dataframe"
      ],
      "metadata": {
        "id": "AXvZLl8MVp7T"
      }
    },
    {
      "cell_type": "code",
      "source": [
        "df.count()"
      ],
      "metadata": {
        "colab": {
          "base_uri": "https://localhost:8080/"
        },
        "id": "qAA1MOpIUotb",
        "outputId": "0451e2ab-d591-4601-fe0e-4d10a0a7b3d9"
      },
      "execution_count": null,
      "outputs": [
        {
          "output_type": "execute_result",
          "data": {
            "text/plain": [
              "2"
            ]
          },
          "metadata": {},
          "execution_count": 14
        }
      ]
    },
    {
      "cell_type": "markdown",
      "source": [
        "**Week 2**"
      ],
      "metadata": {
        "id": "f8_BujfTL_zc"
      }
    },
    {
      "cell_type": "markdown",
      "source": [
        "Ex-1"
      ],
      "metadata": {
        "id": "k14aNKdSTeCv"
      }
    },
    {
      "cell_type": "code",
      "source": [
        "# delete files from previous runs\n",
        "!rm -f hmp.parquet*\n",
        "\n",
        "# download the file containing the data in PARQUET format\n",
        "!wget https://github.com/IBM/coursera/raw/master/hmp.parquet\n",
        "    \n",
        "# create a dataframe out of it\n",
        "df = spark.read.parquet('hmp.parquet')\n",
        "\n",
        "# register a corresponding query table\n",
        "df.createOrReplaceTempView('df')"
      ],
      "metadata": {
        "id": "UCTjJ-b1VoZu",
        "colab": {
          "base_uri": "https://localhost:8080/"
        },
        "outputId": "1334ad37-5bd0-4ee3-c13a-17d9f72ecd68"
      },
      "execution_count": 6,
      "outputs": [
        {
          "output_type": "stream",
          "name": "stdout",
          "text": [
            "--2022-03-11 20:32:43--  https://github.com/IBM/coursera/raw/master/hmp.parquet\n",
            "Resolving github.com (github.com)... 140.82.112.4\n",
            "Connecting to github.com (github.com)|140.82.112.4|:443... connected.\n",
            "HTTP request sent, awaiting response... 301 Moved Permanently\n",
            "Location: https://github.com/IBM/claimed/raw/master/hmp.parquet [following]\n",
            "--2022-03-11 20:32:43--  https://github.com/IBM/claimed/raw/master/hmp.parquet\n",
            "Reusing existing connection to github.com:443.\n",
            "HTTP request sent, awaiting response... 302 Found\n",
            "Location: https://raw.githubusercontent.com/IBM/claimed/master/hmp.parquet [following]\n",
            "--2022-03-11 20:32:44--  https://raw.githubusercontent.com/IBM/claimed/master/hmp.parquet\n",
            "Resolving raw.githubusercontent.com (raw.githubusercontent.com)... 185.199.108.133, 185.199.111.133, 185.199.109.133, ...\n",
            "Connecting to raw.githubusercontent.com (raw.githubusercontent.com)|185.199.108.133|:443... connected.\n",
            "HTTP request sent, awaiting response... 200 OK\n",
            "Length: 932997 (911K) [application/octet-stream]\n",
            "Saving to: ‘hmp.parquet’\n",
            "\n",
            "hmp.parquet         100%[===================>] 911.13K  --.-KB/s    in 0.008s  \n",
            "\n",
            "2022-03-11 20:32:44 (108 MB/s) - ‘hmp.parquet’ saved [932997/932997]\n",
            "\n"
          ]
        }
      ]
    },
    {
      "cell_type": "code",
      "source": [
        "df.show()\n",
        "df.printSchema()"
      ],
      "metadata": {
        "colab": {
          "base_uri": "https://localhost:8080/"
        },
        "id": "8O1pD4FJMlN8",
        "outputId": "c96c508d-326b-4ded-99d3-9c74082925bb"
      },
      "execution_count": null,
      "outputs": [
        {
          "output_type": "stream",
          "name": "stdout",
          "text": [
            "+---+---+---+--------------------+-----------+\n",
            "|  x|  y|  z|              source|      class|\n",
            "+---+---+---+--------------------+-----------+\n",
            "| 22| 49| 35|Accelerometer-201...|Brush_teeth|\n",
            "| 22| 49| 35|Accelerometer-201...|Brush_teeth|\n",
            "| 22| 52| 35|Accelerometer-201...|Brush_teeth|\n",
            "| 22| 52| 35|Accelerometer-201...|Brush_teeth|\n",
            "| 21| 52| 34|Accelerometer-201...|Brush_teeth|\n",
            "| 22| 51| 34|Accelerometer-201...|Brush_teeth|\n",
            "| 20| 50| 35|Accelerometer-201...|Brush_teeth|\n",
            "| 22| 52| 34|Accelerometer-201...|Brush_teeth|\n",
            "| 22| 50| 34|Accelerometer-201...|Brush_teeth|\n",
            "| 22| 51| 35|Accelerometer-201...|Brush_teeth|\n",
            "| 21| 51| 33|Accelerometer-201...|Brush_teeth|\n",
            "| 20| 50| 34|Accelerometer-201...|Brush_teeth|\n",
            "| 21| 49| 33|Accelerometer-201...|Brush_teeth|\n",
            "| 21| 49| 33|Accelerometer-201...|Brush_teeth|\n",
            "| 20| 51| 35|Accelerometer-201...|Brush_teeth|\n",
            "| 18| 49| 34|Accelerometer-201...|Brush_teeth|\n",
            "| 19| 48| 34|Accelerometer-201...|Brush_teeth|\n",
            "| 16| 53| 34|Accelerometer-201...|Brush_teeth|\n",
            "| 18| 52| 35|Accelerometer-201...|Brush_teeth|\n",
            "| 18| 51| 32|Accelerometer-201...|Brush_teeth|\n",
            "+---+---+---+--------------------+-----------+\n",
            "only showing top 20 rows\n",
            "\n",
            "root\n",
            " |-- x: integer (nullable = true)\n",
            " |-- y: integer (nullable = true)\n",
            " |-- z: integer (nullable = true)\n",
            " |-- source: string (nullable = true)\n",
            " |-- class: string (nullable = true)\n",
            "\n"
          ]
        }
      ]
    },
    {
      "cell_type": "code",
      "source": [
        "spark.sql('select class,count(*) from df group by class').show()"
      ],
      "metadata": {
        "colab": {
          "base_uri": "https://localhost:8080/"
        },
        "id": "HsYLpUSVM9ao",
        "outputId": "db36afb1-cdf5-4125-be77-aab7a050bde6"
      },
      "execution_count": null,
      "outputs": [
        {
          "output_type": "stream",
          "name": "stdout",
          "text": [
            "+--------------+--------+\n",
            "|         class|count(1)|\n",
            "+--------------+--------+\n",
            "| Use_telephone|   15225|\n",
            "| Standup_chair|   25417|\n",
            "|      Eat_meat|   31236|\n",
            "|     Getup_bed|   45801|\n",
            "|   Drink_glass|   42792|\n",
            "|    Pour_water|   41673|\n",
            "|     Comb_hair|   23504|\n",
            "|          Walk|   92254|\n",
            "|  Climb_stairs|   40258|\n",
            "| Sitdown_chair|   25036|\n",
            "|   Liedown_bed|   11446|\n",
            "|Descend_stairs|   15375|\n",
            "|   Brush_teeth|   29829|\n",
            "|      Eat_soup|    6683|\n",
            "+--------------+--------+\n",
            "\n"
          ]
        }
      ]
    },
    {
      "cell_type": "code",
      "source": [
        "df.groupBy('class').count().show()"
      ],
      "metadata": {
        "colab": {
          "base_uri": "https://localhost:8080/"
        },
        "id": "sYZNeDJwNG0g",
        "outputId": "7ef5bc2f-bed4-4d36-b2a8-68ea4da944f5"
      },
      "execution_count": null,
      "outputs": [
        {
          "output_type": "stream",
          "name": "stdout",
          "text": [
            "+--------------+-----+\n",
            "|         class|count|\n",
            "+--------------+-----+\n",
            "| Use_telephone|15225|\n",
            "| Standup_chair|25417|\n",
            "|      Eat_meat|31236|\n",
            "|     Getup_bed|45801|\n",
            "|   Drink_glass|42792|\n",
            "|    Pour_water|41673|\n",
            "|     Comb_hair|23504|\n",
            "|          Walk|92254|\n",
            "|  Climb_stairs|40258|\n",
            "| Sitdown_chair|25036|\n",
            "|   Liedown_bed|11446|\n",
            "|Descend_stairs|15375|\n",
            "|   Brush_teeth|29829|\n",
            "|      Eat_soup| 6683|\n",
            "+--------------+-----+\n",
            "\n"
          ]
        }
      ]
    },
    {
      "cell_type": "code",
      "source": [
        "!pip install pixiedust"
      ],
      "metadata": {
        "colab": {
          "base_uri": "https://localhost:8080/"
        },
        "id": "vE6-A5kbOBH2",
        "outputId": "d15cae9f-c97d-4088-806a-1242ffdf1f36"
      },
      "execution_count": null,
      "outputs": [
        {
          "output_type": "stream",
          "name": "stdout",
          "text": [
            "Collecting pixiedust\n",
            "  Downloading pixiedust-1.1.19.tar.gz (197 kB)\n",
            "\u001b[?25l\r\u001b[K     |█▋                              | 10 kB 17.2 MB/s eta 0:00:01\r\u001b[K     |███▎                            | 20 kB 8.6 MB/s eta 0:00:01\r\u001b[K     |█████                           | 30 kB 5.6 MB/s eta 0:00:01\r\u001b[K     |██████▋                         | 40 kB 5.3 MB/s eta 0:00:01\r\u001b[K     |████████▎                       | 51 kB 4.0 MB/s eta 0:00:01\r\u001b[K     |██████████                      | 61 kB 4.8 MB/s eta 0:00:01\r\u001b[K     |███████████▋                    | 71 kB 4.6 MB/s eta 0:00:01\r\u001b[K     |█████████████▎                  | 81 kB 4.7 MB/s eta 0:00:01\r\u001b[K     |███████████████                 | 92 kB 5.2 MB/s eta 0:00:01\r\u001b[K     |████████████████▋               | 102 kB 5.0 MB/s eta 0:00:01\r\u001b[K     |██████████████████▎             | 112 kB 5.0 MB/s eta 0:00:01\r\u001b[K     |████████████████████            | 122 kB 5.0 MB/s eta 0:00:01\r\u001b[K     |█████████████████████▋          | 133 kB 5.0 MB/s eta 0:00:01\r\u001b[K     |███████████████████████▏        | 143 kB 5.0 MB/s eta 0:00:01\r\u001b[K     |████████████████████████▉       | 153 kB 5.0 MB/s eta 0:00:01\r\u001b[K     |██████████████████████████▌     | 163 kB 5.0 MB/s eta 0:00:01\r\u001b[K     |████████████████████████████▏   | 174 kB 5.0 MB/s eta 0:00:01\r\u001b[K     |█████████████████████████████▉  | 184 kB 5.0 MB/s eta 0:00:01\r\u001b[K     |███████████████████████████████▌| 194 kB 5.0 MB/s eta 0:00:01\r\u001b[K     |████████████████████████████████| 197 kB 5.0 MB/s \n",
            "\u001b[?25hCollecting geojson\n",
            "  Downloading geojson-2.5.0-py2.py3-none-any.whl (14 kB)\n",
            "Requirement already satisfied: astunparse in /usr/local/lib/python3.7/dist-packages (from pixiedust) (1.6.3)\n",
            "Requirement already satisfied: markdown in /usr/local/lib/python3.7/dist-packages (from pixiedust) (3.3.6)\n",
            "Collecting colour\n",
            "  Downloading colour-0.1.5-py2.py3-none-any.whl (23 kB)\n",
            "Requirement already satisfied: requests in /usr/local/lib/python3.7/dist-packages (from pixiedust) (2.23.0)\n",
            "Requirement already satisfied: matplotlib in /usr/local/lib/python3.7/dist-packages (from pixiedust) (3.2.2)\n",
            "Requirement already satisfied: pandas in /usr/local/lib/python3.7/dist-packages (from pixiedust) (1.3.5)\n",
            "Requirement already satisfied: wheel<1.0,>=0.23.0 in /usr/local/lib/python3.7/dist-packages (from astunparse->pixiedust) (0.37.1)\n",
            "Requirement already satisfied: six<2.0,>=1.6.1 in /usr/local/lib/python3.7/dist-packages (from astunparse->pixiedust) (1.15.0)\n",
            "Requirement already satisfied: importlib-metadata>=4.4 in /usr/local/lib/python3.7/dist-packages (from markdown->pixiedust) (4.11.2)\n",
            "Requirement already satisfied: typing-extensions>=3.6.4 in /usr/local/lib/python3.7/dist-packages (from importlib-metadata>=4.4->markdown->pixiedust) (3.10.0.2)\n",
            "Requirement already satisfied: zipp>=0.5 in /usr/local/lib/python3.7/dist-packages (from importlib-metadata>=4.4->markdown->pixiedust) (3.7.0)\n",
            "Requirement already satisfied: python-dateutil>=2.1 in /usr/local/lib/python3.7/dist-packages (from matplotlib->pixiedust) (2.8.2)\n",
            "Requirement already satisfied: cycler>=0.10 in /usr/local/lib/python3.7/dist-packages (from matplotlib->pixiedust) (0.11.0)\n",
            "Requirement already satisfied: kiwisolver>=1.0.1 in /usr/local/lib/python3.7/dist-packages (from matplotlib->pixiedust) (1.3.2)\n",
            "Requirement already satisfied: numpy>=1.11 in /usr/local/lib/python3.7/dist-packages (from matplotlib->pixiedust) (1.21.5)\n",
            "Requirement already satisfied: pyparsing!=2.0.4,!=2.1.2,!=2.1.6,>=2.0.1 in /usr/local/lib/python3.7/dist-packages (from matplotlib->pixiedust) (3.0.7)\n",
            "Requirement already satisfied: pytz>=2017.3 in /usr/local/lib/python3.7/dist-packages (from pandas->pixiedust) (2018.9)\n",
            "Requirement already satisfied: urllib3!=1.25.0,!=1.25.1,<1.26,>=1.21.1 in /usr/local/lib/python3.7/dist-packages (from requests->pixiedust) (1.24.3)\n",
            "Requirement already satisfied: idna<3,>=2.5 in /usr/local/lib/python3.7/dist-packages (from requests->pixiedust) (2.10)\n",
            "Requirement already satisfied: chardet<4,>=3.0.2 in /usr/local/lib/python3.7/dist-packages (from requests->pixiedust) (3.0.4)\n",
            "Requirement already satisfied: certifi>=2017.4.17 in /usr/local/lib/python3.7/dist-packages (from requests->pixiedust) (2021.10.8)\n",
            "Building wheels for collected packages: pixiedust\n",
            "  Building wheel for pixiedust (setup.py) ... \u001b[?25l\u001b[?25hdone\n",
            "  Created wheel for pixiedust: filename=pixiedust-1.1.19-py3-none-any.whl size=321805 sha256=cc1e2b4b7940a983d3938a45bb091c9a16291289637527ed8213d700a4039a17\n",
            "  Stored in directory: /root/.cache/pip/wheels/05/07/e7/8aca0e820027a63157a916424fd748fb2a2a3e71de5e08eeb8\n",
            "Successfully built pixiedust\n",
            "Installing collected packages: geojson, colour, pixiedust\n",
            "Successfully installed colour-0.1.5 geojson-2.5.0 pixiedust-1.1.19\n"
          ]
        }
      ]
    },
    {
      "cell_type": "code",
      "source": [
        "# %maplotlib inline ?\n",
        "import matplotlib.pyplot as plt\n",
        "from pyspark.sql.functions import col\n",
        "counts = df.groupBy('class').count().orderBy('count')\n",
        "counts.show()\n"
      ],
      "metadata": {
        "colab": {
          "base_uri": "https://localhost:8080/"
        },
        "id": "Z5JoVC6aNOQv",
        "outputId": "a48c3c0f-39ff-4335-e84f-8b7710fd41f9"
      },
      "execution_count": null,
      "outputs": [
        {
          "output_type": "stream",
          "name": "stdout",
          "text": [
            "+--------------+-----+\n",
            "|         class|count|\n",
            "+--------------+-----+\n",
            "|      Eat_soup| 6683|\n",
            "|   Liedown_bed|11446|\n",
            "| Use_telephone|15225|\n",
            "|Descend_stairs|15375|\n",
            "|     Comb_hair|23504|\n",
            "| Sitdown_chair|25036|\n",
            "| Standup_chair|25417|\n",
            "|   Brush_teeth|29829|\n",
            "|      Eat_meat|31236|\n",
            "|  Climb_stairs|40258|\n",
            "|    Pour_water|41673|\n",
            "|   Drink_glass|42792|\n",
            "|     Getup_bed|45801|\n",
            "|          Walk|92254|\n",
            "+--------------+-----+\n",
            "\n"
          ]
        }
      ]
    },
    {
      "cell_type": "code",
      "source": [
        "spark.sql('''\n",
        "    select \n",
        "        *,\n",
        "        max/min as minmaxratio -- compute minmaxratio based on previously computed values\n",
        "        from (\n",
        "            select \n",
        "                min(ct) as min, -- compute minimum value of all classes\n",
        "                max(ct) as max, -- compute maximum value of all classes\n",
        "                mean(ct) as mean, -- compute mean between all classes\n",
        "                stddev(ct) as stddev -- compute standard deviation between all classes\n",
        "                from (\n",
        "                    select\n",
        "                        count(*) as ct -- count the number of rows per class and rename it to ct\n",
        "                        from df -- access the temporary query table called df backed by DataFrame df\n",
        "                        group by class -- aggrecate over class\n",
        "                )\n",
        "        )   \n",
        "''').show()"
      ],
      "metadata": {
        "colab": {
          "base_uri": "https://localhost:8080/"
        },
        "id": "m7PYebahNVec",
        "outputId": "76360cbc-80e3-4904-95af-2899356617da"
      },
      "execution_count": null,
      "outputs": [
        {
          "output_type": "stream",
          "name": "stdout",
          "text": [
            "+----+-----+------------------+------------------+-----------------+\n",
            "| min|  max|              mean|            stddev|      minmaxratio|\n",
            "+----+-----+------------------+------------------+-----------------+\n",
            "|6683|92254|31894.928571428572|21284.893716741157|13.80427951518779|\n",
            "+----+-----+------------------+------------------+-----------------+\n",
            "\n"
          ]
        }
      ]
    },
    {
      "cell_type": "code",
      "source": [
        "from pyspark.sql.functions import col, min, max, mean, stddev\n",
        "\n",
        "df \\\n",
        "    .groupBy('class') \\\n",
        "    .count() \\\n",
        "    .select([ \n",
        "        min(col(\"count\")).alias('min'), \n",
        "        max(col(\"count\")).alias('max'), \n",
        "        mean(col(\"count\")).alias('mean'), \n",
        "        stddev(col(\"count\")).alias('stddev') \n",
        "    ]) \\\n",
        "    .select([\n",
        "        col('*'),\n",
        "        (col(\"max\") / col(\"min\")).alias('minmaxratio')\n",
        "    ]) \\\n",
        "    .show()\n"
      ],
      "metadata": {
        "colab": {
          "base_uri": "https://localhost:8080/"
        },
        "id": "CXp_LnTQSAaV",
        "outputId": "08ea7b02-77d0-40e6-94b7-0a3f4b235f0f"
      },
      "execution_count": null,
      "outputs": [
        {
          "output_type": "stream",
          "name": "stdout",
          "text": [
            "+----+-----+------------------+------------------+-----------------+\n",
            "| min|  max|              mean|            stddev|      minmaxratio|\n",
            "+----+-----+------------------+------------------+-----------------+\n",
            "|6683|92254|31894.928571428572|21284.893716741157|13.80427951518779|\n",
            "+----+-----+------------------+------------------+-----------------+\n",
            "\n"
          ]
        }
      ]
    },
    {
      "cell_type": "code",
      "source": [
        ""
      ],
      "metadata": {
        "id": "3tNzLB-ISDdq"
      },
      "execution_count": null,
      "outputs": []
    },
    {
      "cell_type": "markdown",
      "source": [
        "Ex-2"
      ],
      "metadata": {
        "id": "aDzI87UYTg8H"
      }
    },
    {
      "cell_type": "code",
      "source": [
        "!wget https://github.com/IBM/coursera/blob/master/coursera_ds/washing.parquet?raw=true\n",
        "!mv washing.parquet?raw=true washing.parquet"
      ],
      "metadata": {
        "id": "NKAu__rFThtE",
        "colab": {
          "base_uri": "https://localhost:8080/"
        },
        "outputId": "78ee0d18-1b46-499e-b50c-0af8e008ab13"
      },
      "execution_count": null,
      "outputs": [
        {
          "output_type": "stream",
          "name": "stdout",
          "text": [
            "--2022-03-04 19:43:00--  https://github.com/IBM/coursera/blob/master/coursera_ds/washing.parquet?raw=true\n",
            "Resolving github.com (github.com)... 140.82.114.3\n",
            "Connecting to github.com (github.com)|140.82.114.3|:443... connected.\n",
            "HTTP request sent, awaiting response... 301 Moved Permanently\n",
            "Location: https://github.com/IBM/claimed/blob/master/coursera_ds/washing.parquet?raw=true [following]\n",
            "--2022-03-04 19:43:00--  https://github.com/IBM/claimed/blob/master/coursera_ds/washing.parquet?raw=true\n",
            "Reusing existing connection to github.com:443.\n",
            "HTTP request sent, awaiting response... 302 Found\n",
            "Location: https://github.com/IBM/claimed/raw/master/coursera_ds/washing.parquet [following]\n",
            "--2022-03-04 19:43:00--  https://github.com/IBM/claimed/raw/master/coursera_ds/washing.parquet\n",
            "Reusing existing connection to github.com:443.\n",
            "HTTP request sent, awaiting response... 302 Found\n",
            "Location: https://raw.githubusercontent.com/IBM/claimed/master/coursera_ds/washing.parquet [following]\n",
            "--2022-03-04 19:43:00--  https://raw.githubusercontent.com/IBM/claimed/master/coursera_ds/washing.parquet\n",
            "Resolving raw.githubusercontent.com (raw.githubusercontent.com)... 185.199.110.133, 185.199.109.133, 185.199.108.133, ...\n",
            "Connecting to raw.githubusercontent.com (raw.githubusercontent.com)|185.199.110.133|:443... connected.\n",
            "HTTP request sent, awaiting response... 200 OK\n",
            "Length: 112048 (109K) [application/octet-stream]\n",
            "Saving to: ‘washing.parquet?raw=true’\n",
            "\n",
            "washing.parquet?raw 100%[===================>] 109.42K  --.-KB/s    in 0.02s   \n",
            "\n",
            "2022-03-04 19:43:01 (5.03 MB/s) - ‘washing.parquet?raw=true’ saved [112048/112048]\n",
            "\n"
          ]
        }
      ]
    },
    {
      "cell_type": "markdown",
      "source": [
        ""
      ],
      "metadata": {
        "id": "fmRxUvqiPGj1"
      }
    },
    {
      "cell_type": "code",
      "source": [
        "df = spark.read.parquet('washing.parquet')"
      ],
      "metadata": {
        "id": "6cqFMzqdPMXF"
      },
      "execution_count": null,
      "outputs": []
    },
    {
      "cell_type": "code",
      "source": [
        "df.count()"
      ],
      "metadata": {
        "colab": {
          "base_uri": "https://localhost:8080/"
        },
        "id": "ZdwGyt6bPMyP",
        "outputId": "4f0deeb1-708c-418a-fb53-76d26e80c5b1"
      },
      "execution_count": null,
      "outputs": [
        {
          "output_type": "execute_result",
          "data": {
            "text/plain": [
              "2058"
            ]
          },
          "metadata": {},
          "execution_count": 25
        }
      ]
    },
    {
      "cell_type": "code",
      "source": [
        "df.createOrReplaceTempView(\"washing\")\n",
        "spark.sql(\"SELECT * FROM washing\").show()"
      ],
      "metadata": {
        "colab": {
          "base_uri": "https://localhost:8080/"
        },
        "id": "ZYi1KOJ5PNyW",
        "outputId": "32c3372b-0304-4ed6-cbb0-ed124b07dbb2"
      },
      "execution_count": null,
      "outputs": [
        {
          "output_type": "stream",
          "name": "stdout",
          "text": [
            "+--------------------+--------------------+-----+--------+----------+---------+--------+-----+-----------+-------------+-------+\n",
            "|                 _id|                _rev|count|flowrate|fluidlevel|frequency|hardness|speed|temperature|           ts|voltage|\n",
            "+--------------------+--------------------+-----+--------+----------+---------+--------+-----+-----------+-------------+-------+\n",
            "|0d86485d0f88d1f9d...|1-57940679fb8a713...|    4|      11|acceptable|     null|      77| null|        100|1547808723923|   null|\n",
            "|0d86485d0f88d1f9d...|1-15ff3a0b304d789...|    2|    null|      null|     null|    null| 1046|       null|1547808729917|   null|\n",
            "|0d86485d0f88d1f9d...|1-97c2742b68c7b07...|    4|    null|      null|       71|    null| null|       null|1547808731918|    236|\n",
            "|0d86485d0f88d1f9d...|1-eefb903dbe45746...|   19|      11|acceptable|     null|      75| null|         86|1547808738999|   null|\n",
            "|0d86485d0f88d1f9d...|1-5f68b4c72813c25...|    7|    null|      null|       75|    null| null|       null|1547808740927|    235|\n",
            "|0d86485d0f88d1f9d...|1-cd4b6c57ddbe77e...|    5|    null|      null|     null|    null| 1014|       null|1547808744923|   null|\n",
            "|0d86485d0f88d1f9d...|1-a35b25b5bf43aaf...|   32|      11|acceptable|     null|      73| null|         84|1547808752028|   null|\n",
            "|0d86485d0f88d1f9d...|1-b717f7289a8476d...|   48|      11|acceptable|     null|      79| null|         84|1547808768065|   null|\n",
            "|0d86485d0f88d1f9d...|1-c2f1f8fcf178b2f...|   18|    null|      null|       73|    null| null|       null|1547808773944|    228|\n",
            "|0d86485d0f88d1f9d...|1-15033dd9eebb4a8...|   59|      11|acceptable|     null|      72| null|         96|1547808779093|   null|\n",
            "|0d86485d0f88d1f9d...|1-753dae825f9a6c2...|   62|      11|acceptable|     null|      73| null|         88|1547808782113|   null|\n",
            "|0d86485d0f88d1f9d...|1-b168089f44f03f0...|   13|    null|      null|     null|    null| 1097|       null|1547808784940|   null|\n",
            "|0d86485d0f88d1f9d...|1-403b687c6be0dea...|   23|    null|      null|       80|    null| null|       null|1547808788955|    236|\n",
            "|0d86485d0f88d1f9d...|1-195551e0455a24b...|   72|      11|acceptable|     null|      77| null|         87|1547808792134|   null|\n",
            "|0d86485d0f88d1f9d...|1-060a39fc6c2ddee...|   26|    null|      null|       62|    null| null|       null|1547808797959|    233|\n",
            "|0d86485d0f88d1f9d...|1-2234514bffee465...|   27|    null|      null|       61|    null| null|       null|1547808800960|    226|\n",
            "|0d86485d0f88d1f9d...|1-4265898bb401db0...|   82|      11|acceptable|     null|      79| null|         96|1547808802154|   null|\n",
            "|0d86485d0f88d1f9d...|1-2fbf7ca9a0425a0...|   94|      11|acceptable|     null|      73| null|         90|1547808814186|   null|\n",
            "|0d86485d0f88d1f9d...|1-203c0ee6d7fbd21...|   97|      11|acceptable|     null|      77| null|         88|1547808817190|   null|\n",
            "|0d86485d0f88d1f9d...|1-47e1965db94fcab...|  104|      11|acceptable|     null|      75| null|         80|1547808824198|   null|\n",
            "+--------------------+--------------------+-----+--------+----------+---------+--------+-----+-----------+-------------+-------+\n",
            "only showing top 20 rows\n",
            "\n"
          ]
        }
      ]
    },
    {
      "cell_type": "code",
      "source": [
        "result = spark.sql(\"select voltage from washing where voltage is not null\")\n",
        "result_array = result.rdd.map(lambda row : row.voltage).sample(False,0.1).collect()\n",
        "\n",
        "#just print the 1st 15 elements\n",
        "result_array[:15]"
      ],
      "metadata": {
        "colab": {
          "base_uri": "https://localhost:8080/"
        },
        "id": "clAOZgQAPY7z",
        "outputId": "f24a33d8-fcd7-44b1-94d8-3e2daf6d235d"
      },
      "execution_count": null,
      "outputs": [
        {
          "output_type": "execute_result",
          "data": {
            "text/plain": [
              "[230, 234, 235, 221, 233, 223, 232, 239, 229, 227, 234, 231, 233, 227, 250]"
            ]
          },
          "metadata": {},
          "execution_count": 27
        }
      ]
    },
    {
      "cell_type": "code",
      "source": [
        "%matplotlib inline"
      ],
      "metadata": {
        "id": "F3Co3QU5PgK_"
      },
      "execution_count": null,
      "outputs": []
    },
    {
      "cell_type": "code",
      "source": [
        "import matplotlib.pyplot as plt\n",
        "plt.boxplot(result_array)\n",
        "plt.show()"
      ],
      "metadata": {
        "colab": {
          "base_uri": "https://localhost:8080/",
          "height": 265
        },
        "id": "soCmyhifPijR",
        "outputId": "3222e6c4-8c31-4db4-9796-20a15a8805ca"
      },
      "execution_count": null,
      "outputs": [
        {
          "output_type": "display_data",
          "data": {
            "image/png": "[encoded data removed]",
            "text/plain": [
              "<Figure size 432x288 with 1 Axes>"
            ]
          },
          "metadata": {
            "needs_background": "light"
          }
        }
      ]
    },
    {
      "cell_type": "code",
      "source": [
        "result = spark.sql(\"select voltage,ts from washing where voltage is not null order by ts asc\")\n",
        "result_rdd = result.rdd.sample(False,0.1).map(lambda row : (row.ts,row.voltage))\n",
        "result_array_ts = result_rdd.map(lambda ts_voltage: ts_voltage[0]).collect()\n",
        "result_array_voltage = result_rdd.map(lambda ts_voltage: ts_voltage[1]).collect()\n",
        "print(result_array_ts[:15])\n",
        "print(result_array_voltage[:15])"
      ],
      "metadata": {
        "colab": {
          "base_uri": "https://localhost:8080/"
        },
        "id": "kBgStgzOPl7K",
        "outputId": "0a3d337d-c115-40a5-c626-9a82be4e7f7a"
      },
      "execution_count": null,
      "outputs": [
        {
          "output_type": "stream",
          "name": "stdout",
          "text": [
            "[1547808737926, 1547808776948, 1547808876043, 1547808912091, 1547808975148, 1547809137266, 1547809149271, 1547809158278, 1547809212330, 1547809218332, 1547809221335, 1547809236348, 1547809251354, 1547809311397, 1547809350411]\n",
            "[234, 235, 221, 236, 238, 226, 232, 226, 237, 220, 235, 236, 231, 252, 236]\n"
          ]
        }
      ]
    },
    {
      "cell_type": "code",
      "source": [
        "plt.plot(result_array_ts,result_array_voltage)\n",
        "plt.xlabel(\"time\")\n",
        "plt.ylabel(\"voltage\")\n",
        "plt.show()"
      ],
      "metadata": {
        "colab": {
          "base_uri": "https://localhost:8080/",
          "height": 279
        },
        "id": "SjErw6GOP7oq",
        "outputId": "7eb6fee9-0709-48a8-c9ed-132e9de8c28a"
      },
      "execution_count": null,
      "outputs": [
        {
          "output_type": "display_data",
          "data": {
            "image/png": "[encoded data removed]",
            "text/plain": [
              "<Figure size 432x288 with 1 Axes>"
            ]
          },
          "metadata": {
            "needs_background": "light"
          }
        }
      ]
    },
    {
      "cell_type": "code",
      "source": [
        "spark.sql(\"select min(ts),max(ts) from washing\").show()"
      ],
      "metadata": {
        "colab": {
          "base_uri": "https://localhost:8080/"
        },
        "id": "-zBa3WvBP-Tg",
        "outputId": "87088e73-caa3-409e-9eab-86c5b3d202ab"
      },
      "execution_count": null,
      "outputs": [
        {
          "output_type": "stream",
          "name": "stdout",
          "text": [
            "+-------------+-------------+\n",
            "|      min(ts)|      max(ts)|\n",
            "+-------------+-------------+\n",
            "|1547808720911|1547810064867|\n",
            "+-------------+-------------+\n",
            "\n"
          ]
        }
      ]
    },
    {
      "cell_type": "code",
      "source": [
        "result = spark.sql(\n",
        "\"\"\"\n",
        "select voltage,ts from washing \n",
        "    where voltage is not null and \n",
        "    ts > 1547808720911 and\n",
        "    ts <= 1547810064867+3600000\n",
        "    order by ts asc\n",
        "\"\"\")\n",
        "result_rdd = result.rdd.map(lambda row : (row.ts,row.voltage))\n",
        "result_array_ts = result_rdd.map(lambda ts_voltage: ts_voltage[0]).collect()\n",
        "result_array_voltage = result_rdd.map(lambda ts_voltage: ts_voltage[1]).collect()\n",
        "plt.plot(result_array_ts,result_array_voltage)\n",
        "plt.xlabel(\"time\")\n",
        "plt.ylabel(\"voltage\")\n",
        "plt.show()"
      ],
      "metadata": {
        "colab": {
          "base_uri": "https://localhost:8080/",
          "height": 279
        },
        "id": "7CUFXEpcQLcs",
        "outputId": "71f02eb0-91e7-457b-d9c5-58e673131e49"
      },
      "execution_count": null,
      "outputs": [
        {
          "output_type": "display_data",
          "data": {
            "image/png": "[encoded data removed]",
            "text/plain": [
              "<Figure size 432x288 with 1 Axes>"
            ]
          },
          "metadata": {
            "needs_background": "light"
          }
        }
      ]
    },
    {
      "cell_type": "code",
      "source": [
        "result_df = spark.sql(\"\"\"\n",
        "select hardness,temperature,flowrate from washing\n",
        "    where hardness is not null and \n",
        "    temperature is not null and \n",
        "    flowrate is not null\n",
        "\"\"\")\n",
        "result_rdd = result_df.rdd.sample(False,0.1).map(lambda row : (row.hardness,row.temperature,row.flowrate))\n",
        "result_array_hardness = result_rdd.map(lambda hardness_temperature_flowrate: hardness_temperature_flowrate[0]).collect()\n",
        "result_array_temperature = result_rdd.map(lambda hardness_temperature_flowrate: hardness_temperature_flowrate[1]).collect()\n",
        "result_array_flowrate = result_rdd.map(lambda hardness_temperature_flowrate: hardness_temperature_flowrate[2]).collect()"
      ],
      "metadata": {
        "id": "NkzqgZWBQOKF"
      },
      "execution_count": null,
      "outputs": []
    },
    {
      "cell_type": "code",
      "source": [
        "from mpl_toolkits.mplot3d import Axes3D\n",
        "\n",
        "fig = plt.figure()\n",
        "ax = fig.add_subplot(111, projection='3d')\n",
        "\n",
        "ax.scatter(result_array_hardness,result_array_temperature,result_array_flowrate, c='r', marker='o')\n",
        "\n",
        "ax.set_xlabel('hardness')\n",
        "ax.set_ylabel('temperature')\n",
        "ax.set_zlabel('flowrate')\n",
        "\n",
        "plt.show()"
      ],
      "metadata": {
        "colab": {
          "base_uri": "https://localhost:8080/",
          "height": 248
        },
        "id": "-oivBHS3QXn6",
        "outputId": "3150fc5b-617e-47ec-abe9-f626061195ed"
      },
      "execution_count": null,
      "outputs": [
        {
          "output_type": "display_data",
          "data": {
            "image/png": "[encoded data removed]",
            "text/plain": [
              "<Figure size 432x288 with 1 Axes>"
            ]
          },
          "metadata": {
            "needs_background": "light"
          }
        }
      ]
    },
    {
      "cell_type": "code",
      "source": [
        "plt.hist(result_array_hardness)\n",
        "plt.show()"
      ],
      "metadata": {
        "colab": {
          "base_uri": "https://localhost:8080/",
          "height": 265
        },
        "id": "sZOmtExZQaAc",
        "outputId": "b5282250-b398-4073-e133-c5ad7df487b5"
      },
      "execution_count": null,
      "outputs": [
        {
          "output_type": "display_data",
          "data": {
            "image/png": "[encoded data removed]",
            "text/plain": [
              "<Figure size 432x288 with 1 Axes>"
            ]
          },
          "metadata": {
            "needs_background": "light"
          }
        }
      ]
    },
    {
      "cell_type": "code",
      "source": [
        ""
      ],
      "metadata": {
        "id": "99su0tIPQnmb"
      },
      "execution_count": null,
      "outputs": []
    },
    {
      "cell_type": "markdown",
      "source": [
        "Week 3\n"
      ],
      "metadata": {
        "id": "6ZYzmBTyc4jQ"
      }
    },
    {
      "cell_type": "code",
      "source": [
        "df = spark.read.parquet('washing.parquet')\n",
        "df.createOrReplaceTempView('washing')\n",
        "df.show()"
      ],
      "metadata": {
        "colab": {
          "base_uri": "https://localhost:8080/"
        },
        "id": "ix9Rck8Pc6Fc",
        "outputId": "e790bd4d-e2f0-4a16-a404-15a6b8b1a15c"
      },
      "execution_count": null,
      "outputs": [
        {
          "output_type": "stream",
          "name": "stdout",
          "text": [
            "+--------------------+--------------------+-----+--------+----------+---------+--------+-----+-----------+-------------+-------+\n",
            "|                 _id|                _rev|count|flowrate|fluidlevel|frequency|hardness|speed|temperature|           ts|voltage|\n",
            "+--------------------+--------------------+-----+--------+----------+---------+--------+-----+-----------+-------------+-------+\n",
            "|0d86485d0f88d1f9d...|1-57940679fb8a713...|    4|      11|acceptable|     null|      77| null|        100|1547808723923|   null|\n",
            "|0d86485d0f88d1f9d...|1-15ff3a0b304d789...|    2|    null|      null|     null|    null| 1046|       null|1547808729917|   null|\n",
            "|0d86485d0f88d1f9d...|1-97c2742b68c7b07...|    4|    null|      null|       71|    null| null|       null|1547808731918|    236|\n",
            "|0d86485d0f88d1f9d...|1-eefb903dbe45746...|   19|      11|acceptable|     null|      75| null|         86|1547808738999|   null|\n",
            "|0d86485d0f88d1f9d...|1-5f68b4c72813c25...|    7|    null|      null|       75|    null| null|       null|1547808740927|    235|\n",
            "|0d86485d0f88d1f9d...|1-cd4b6c57ddbe77e...|    5|    null|      null|     null|    null| 1014|       null|1547808744923|   null|\n",
            "|0d86485d0f88d1f9d...|1-a35b25b5bf43aaf...|   32|      11|acceptable|     null|      73| null|         84|1547808752028|   null|\n",
            "|0d86485d0f88d1f9d...|1-b717f7289a8476d...|   48|      11|acceptable|     null|      79| null|         84|1547808768065|   null|\n",
            "|0d86485d0f88d1f9d...|1-c2f1f8fcf178b2f...|   18|    null|      null|       73|    null| null|       null|1547808773944|    228|\n",
            "|0d86485d0f88d1f9d...|1-15033dd9eebb4a8...|   59|      11|acceptable|     null|      72| null|         96|1547808779093|   null|\n",
            "|0d86485d0f88d1f9d...|1-753dae825f9a6c2...|   62|      11|acceptable|     null|      73| null|         88|1547808782113|   null|\n",
            "|0d86485d0f88d1f9d...|1-b168089f44f03f0...|   13|    null|      null|     null|    null| 1097|       null|1547808784940|   null|\n",
            "|0d86485d0f88d1f9d...|1-403b687c6be0dea...|   23|    null|      null|       80|    null| null|       null|1547808788955|    236|\n",
            "|0d86485d0f88d1f9d...|1-195551e0455a24b...|   72|      11|acceptable|     null|      77| null|         87|1547808792134|   null|\n",
            "|0d86485d0f88d1f9d...|1-060a39fc6c2ddee...|   26|    null|      null|       62|    null| null|       null|1547808797959|    233|\n",
            "|0d86485d0f88d1f9d...|1-2234514bffee465...|   27|    null|      null|       61|    null| null|       null|1547808800960|    226|\n",
            "|0d86485d0f88d1f9d...|1-4265898bb401db0...|   82|      11|acceptable|     null|      79| null|         96|1547808802154|   null|\n",
            "|0d86485d0f88d1f9d...|1-2fbf7ca9a0425a0...|   94|      11|acceptable|     null|      73| null|         90|1547808814186|   null|\n",
            "|0d86485d0f88d1f9d...|1-203c0ee6d7fbd21...|   97|      11|acceptable|     null|      77| null|         88|1547808817190|   null|\n",
            "|0d86485d0f88d1f9d...|1-47e1965db94fcab...|  104|      11|acceptable|     null|      75| null|         80|1547808824198|   null|\n",
            "+--------------------+--------------------+-----+--------+----------+---------+--------+-----+-----------+-------------+-------+\n",
            "only showing top 20 rows\n",
            "\n"
          ]
        }
      ]
    },
    {
      "cell_type": "code",
      "source": [
        "result = spark.sql(\"\"\"\n",
        "SELECT * from (\n",
        "    SELECT\n",
        "    min(temperature) over w as min_temperature,\n",
        "    max(temperature) over w as max_temperature, \n",
        "    min(voltage) over w as min_voltage,\n",
        "    max(voltage) over w as max_voltage,\n",
        "    min(flowrate) over w as min_flowrate,\n",
        "    max(flowrate) over w as max_flowrate,\n",
        "    min(frequency) over w as min_frequency,\n",
        "    max(frequency) over w as max_frequency,\n",
        "    min(hardness) over w as min_hardness,\n",
        "    max(hardness) over w as max_hardness,\n",
        "    min(speed) over w as min_speed,\n",
        "    max(speed) over w as max_speed\n",
        "    FROM washing \n",
        "    WINDOW w AS (ORDER BY ts ROWS BETWEEN CURRENT ROW AND 10 FOLLOWING) \n",
        ")\n",
        "WHERE min_temperature is not null \n",
        "AND max_temperature is not null\n",
        "AND min_voltage is not null\n",
        "AND max_voltage is not null\n",
        "AND min_flowrate is not null\n",
        "AND max_flowrate is not null\n",
        "AND min_frequency is not null\n",
        "AND max_frequency is not null\n",
        "AND min_hardness is not null\n",
        "AND min_speed is not null\n",
        "AND max_speed is not null   \n",
        "\"\"\")"
      ],
      "metadata": {
        "id": "-oZ2y3Mbc_if"
      },
      "execution_count": null,
      "outputs": []
    },
    {
      "cell_type": "code",
      "source": [
        "df.count()-result.count()"
      ],
      "metadata": {
        "colab": {
          "base_uri": "https://localhost:8080/"
        },
        "id": "IWCl_6TddDIV",
        "outputId": "b016a729-1a5f-4187-ebe2-7b01ef702720"
      },
      "execution_count": null,
      "outputs": [
        {
          "output_type": "execute_result",
          "data": {
            "text/plain": [
              "7"
            ]
          },
          "metadata": {},
          "execution_count": 39
        }
      ]
    },
    {
      "cell_type": "code",
      "source": [
        "from pyspark.ml.feature import PCA\n",
        "from pyspark.ml.linalg import Vectors\n",
        "from pyspark.ml.feature import VectorAssembler\n"
      ],
      "metadata": {
        "id": "dRhJHCBwdG_z"
      },
      "execution_count": null,
      "outputs": []
    },
    {
      "cell_type": "code",
      "source": [
        "assembler = VectorAssembler(inputCols=result.columns, outputCol=\"features\")"
      ],
      "metadata": {
        "id": "VMW-FEz9dNBI"
      },
      "execution_count": null,
      "outputs": []
    },
    {
      "cell_type": "code",
      "source": [
        "features = assembler.transform(result)"
      ],
      "metadata": {
        "id": "9Ob3Js3qdefp"
      },
      "execution_count": null,
      "outputs": []
    },
    {
      "cell_type": "code",
      "source": [
        "features.rdd.map(lambda r : r.features).take(10)"
      ],
      "metadata": {
        "colab": {
          "base_uri": "https://localhost:8080/"
        },
        "id": "pPCphdfOdh68",
        "outputId": "a6565b8e-b640-4eb8-cfc2-320cc1b9a278"
      },
      "execution_count": null,
      "outputs": [
        {
          "output_type": "execute_result",
          "data": {
            "text/plain": [
              "[DenseVector([81.0, 100.0, 221.0, 223.0, 11.0, 11.0, 68.0, 76.0, 71.0, 78.0, 1033.0, 1033.0]),\n",
              " DenseVector([81.0, 100.0, 221.0, 223.0, 11.0, 11.0, 68.0, 76.0, 72.0, 78.0, 1033.0, 1033.0]),\n",
              " DenseVector([81.0, 100.0, 221.0, 223.0, 11.0, 11.0, 68.0, 76.0, 72.0, 80.0, 1033.0, 1033.0]),\n",
              " DenseVector([81.0, 100.0, 222.0, 223.0, 11.0, 11.0, 68.0, 74.0, 72.0, 80.0, 1033.0, 1046.0]),\n",
              " DenseVector([81.0, 100.0, 222.0, 223.0, 11.0, 11.0, 68.0, 74.0, 73.0, 80.0, 1033.0, 1046.0]),\n",
              " DenseVector([80.0, 94.0, 222.0, 223.0, 11.0, 11.0, 68.0, 74.0, 73.0, 80.0, 1033.0, 1046.0]),\n",
              " DenseVector([80.0, 94.0, 222.0, 236.0, 11.0, 11.0, 68.0, 74.0, 73.0, 80.0, 1046.0, 1046.0]),\n",
              " DenseVector([80.0, 94.0, 222.0, 236.0, 11.0, 11.0, 68.0, 74.0, 73.0, 80.0, 1046.0, 1046.0]),\n",
              " DenseVector([80.0, 94.0, 222.0, 236.0, 11.0, 11.0, 71.0, 74.0, 73.0, 80.0, 1046.0, 1046.0]),\n",
              " DenseVector([80.0, 94.0, 222.0, 236.0, 11.0, 11.0, 71.0, 74.0, 73.0, 80.0, 1046.0, 1046.0])]"
            ]
          },
          "metadata": {},
          "execution_count": 43
        }
      ]
    },
    {
      "cell_type": "code",
      "source": [
        "pca = PCA(k=3, inputCol=\"features\", outputCol=\"pcaFeatures\")\n",
        "model = pca.fit(features)"
      ],
      "metadata": {
        "id": "IdwMO40Idthx"
      },
      "execution_count": null,
      "outputs": []
    },
    {
      "cell_type": "code",
      "source": [
        "result_pca = model.transform(features).select(\"pcaFeatures\")\n",
        "result_pca.show(truncate=False)"
      ],
      "metadata": {
        "colab": {
          "base_uri": "https://localhost:8080/"
        },
        "id": "jjDhZQaNd89i",
        "outputId": "30e0ad4b-0ac0-4801-c324-9d8cbe10f025"
      },
      "execution_count": null,
      "outputs": [
        {
          "output_type": "stream",
          "name": "stdout",
          "text": [
            "+----------------------------------------------------------+\n",
            "|pcaFeatures                                               |\n",
            "+----------------------------------------------------------+\n",
            "|[1459.9789705815301,18.745237781813703,70.7843079478946]  |\n",
            "|[1459.9954818287874,19.113431461685497,70.72738871418585] |\n",
            "|[1460.0895843562396,20.969471062955694,70.75630600314628] |\n",
            "|[1469.69939294206,20.40312464764779,62.01356967480217]    |\n",
            "|[1469.7159041893176,20.771318327519584,61.95665044109353] |\n",
            "|[1469.712831733977,20.790751117254793,61.89610667824968]  |\n",
            "|[1478.353026457406,20.29455702976173,71.67550104802774]   |\n",
            "|[1478.353026457406,20.29455702976173,71.67550104802774]   |\n",
            "|[1478.3686036139297,20.26062689766929,71.63355353599673]  |\n",
            "|[1478.3686036139297,20.26062689766929,71.63355353599673]  |\n",
            "|[1483.5412027685188,20.006222577534132,66.82710394276808] |\n",
            "|[1483.5171090224458,20.86702042161668,66.86707301946444]  |\n",
            "|[1483.422426854405,19.87574823668772,66.93027077907936]   |\n",
            "|[1483.422426854405,19.87574823668772,66.93027077907936]   |\n",
            "|[1488.103073547386,19.31184857342016,72.162618263578]     |\n",
            "|[1488.10769268508,19.311945711128185,72.2762160559929]    |\n",
            "|[1488.013590157628,17.455906109857988,72.24729876703248]  |\n",
            "|[1488.026374556729,17.476327666524067,72.22147034223724]  |\n",
            "|[1465.1644738448076,17.503338292838507,47.060728982675755]|\n",
            "|[1465.1644738448076,17.503338292838507,47.060728982675755]|\n",
            "+----------------------------------------------------------+\n",
            "only showing top 20 rows\n",
            "\n"
          ]
        }
      ]
    },
    {
      "cell_type": "code",
      "source": [
        "result_pca.count()"
      ],
      "metadata": {
        "colab": {
          "base_uri": "https://localhost:8080/"
        },
        "id": "FFS-ZknKeD_U",
        "outputId": "b7d8394a-b062-4e23-fa6d-cad60f88aa26"
      },
      "execution_count": null,
      "outputs": [
        {
          "output_type": "execute_result",
          "data": {
            "text/plain": [
              "2051"
            ]
          },
          "metadata": {},
          "execution_count": 46
        }
      ]
    },
    {
      "cell_type": "code",
      "source": [
        "rdd = result_pca.rdd.sample(False,0.8)\n"
      ],
      "metadata": {
        "id": "dpqlkMYYeKbp"
      },
      "execution_count": null,
      "outputs": []
    },
    {
      "cell_type": "code",
      "source": [
        "x = rdd.map(lambda a : a.pcaFeatures).map(lambda a : a[0]).collect()\n",
        "y = rdd.map(lambda a : a.pcaFeatures).map(lambda a : a[1]).collect()\n",
        "z = rdd.map(lambda a : a.pcaFeatures).map(lambda a : a[2]).collect()"
      ],
      "metadata": {
        "id": "THYr5TykeOzg"
      },
      "execution_count": null,
      "outputs": []
    },
    {
      "cell_type": "code",
      "source": [
        "%matplotlib inline\n",
        "import matplotlib.pyplot as plt\n",
        "from mpl_toolkits.mplot3d import Axes3D\n",
        "\n",
        "\n",
        "fig = plt.figure()\n",
        "ax = fig.add_subplot(111, projection='3d')\n",
        "\n",
        "\n",
        "\n",
        "\n",
        "ax.scatter(x,y,z, c='r', marker='o')\n",
        "\n",
        "ax.set_xlabel('dimension1')\n",
        "ax.set_ylabel('dimension2')\n",
        "ax.set_zlabel('dimension3')\n",
        "\n",
        "plt.show()"
      ],
      "metadata": {
        "colab": {
          "base_uri": "https://localhost:8080/",
          "height": 248
        },
        "id": "jzmN7NQ4eXga",
        "outputId": "fe29f932-bc7d-4f94-ccb9-5d1dcee0156a"
      },
      "execution_count": null,
      "outputs": [
        {
          "output_type": "display_data",
          "data": {
            "image/png": "[encoded data removed]",
            "text/plain": [
              "<Figure size 432x288 with 1 Axes>"
            ]
          },
          "metadata": {
            "needs_background": "light"
          }
        }
      ]
    },
    {
      "cell_type": "code",
      "source": [
        ""
      ],
      "metadata": {
        "id": "AfFbVfMIeeYJ"
      },
      "execution_count": null,
      "outputs": []
    },
    {
      "cell_type": "markdown",
      "source": [
        "Week 3\n",
        "\n",
        "\n",
        "ML pipelines\n"
      ],
      "metadata": {
        "id": "pA9PkOOmn-Mh"
      }
    },
    {
      "cell_type": "code",
      "source": [
        "from pyspark.ml.feature import OneHotEncoder, StringIndexer, VectorAssembler, Normalizer, MinMaxScaler\n",
        "from pyspark.ml.linalg import Vectors\n",
        "from pyspark.ml import Pipeline\n",
        "\n",
        "indexer = StringIndexer(inputCol=\"class\", outputCol=\"classIndex\")\n",
        "encoder = OneHotEncoder(inputCol=\"classIndex\", outputCol=\"categoryVec\")\n",
        "vectorAssembler = VectorAssembler(inputCols=[\"x\",\"y\",\"z\"],\n",
        "                                  outputCol=\"features\")\n",
        "normalizer = Normalizer(inputCol=\"features\", outputCol=\"features_norm\", p=1.0)\n",
        "\n",
        "minmaxscaler = MinMaxScaler(inputCol=\"features\", outputCol=\"features_minmax\")\n",
        "\n",
        "pipeline = Pipeline(stages=[indexer, encoder, vectorAssembler, normalizer,minmaxscaler])\n",
        "model = pipeline.fit(df)\n",
        "prediction = model.transform(df)\n",
        "prediction.show()"
      ],
      "metadata": {
        "colab": {
          "base_uri": "https://localhost:8080/"
        },
        "id": "hJttexZ_n_MD",
        "outputId": "74e73535-758a-40d3-aa1e-0b52c29e3a05"
      },
      "execution_count": 7,
      "outputs": [
        {
          "output_type": "stream",
          "name": "stdout",
          "text": [
            "+---+---+---+--------------------+-----------+----------+--------------+----------------+--------------------+--------------------+\n",
            "|  x|  y|  z|              source|      class|classIndex|   categoryVec|        features|       features_norm|     features_minmax|\n",
            "+---+---+---+--------------------+-----------+----------+--------------+----------------+--------------------+--------------------+\n",
            "| 22| 49| 35|Accelerometer-201...|Brush_teeth|       6.0|(13,[6],[1.0])|[22.0,49.0,35.0]|[0.20754716981132...|[0.34920634920634...|\n",
            "| 22| 49| 35|Accelerometer-201...|Brush_teeth|       6.0|(13,[6],[1.0])|[22.0,49.0,35.0]|[0.20754716981132...|[0.34920634920634...|\n",
            "| 22| 52| 35|Accelerometer-201...|Brush_teeth|       6.0|(13,[6],[1.0])|[22.0,52.0,35.0]|[0.20183486238532...|[0.34920634920634...|\n",
            "| 22| 52| 35|Accelerometer-201...|Brush_teeth|       6.0|(13,[6],[1.0])|[22.0,52.0,35.0]|[0.20183486238532...|[0.34920634920634...|\n",
            "| 21| 52| 34|Accelerometer-201...|Brush_teeth|       6.0|(13,[6],[1.0])|[21.0,52.0,34.0]|[0.19626168224299...|[0.33333333333333...|\n",
            "| 22| 51| 34|Accelerometer-201...|Brush_teeth|       6.0|(13,[6],[1.0])|[22.0,51.0,34.0]|[0.20560747663551...|[0.34920634920634...|\n",
            "| 20| 50| 35|Accelerometer-201...|Brush_teeth|       6.0|(13,[6],[1.0])|[20.0,50.0,35.0]|[0.19047619047619...|[0.31746031746031...|\n",
            "| 22| 52| 34|Accelerometer-201...|Brush_teeth|       6.0|(13,[6],[1.0])|[22.0,52.0,34.0]|[0.20370370370370...|[0.34920634920634...|\n",
            "| 22| 50| 34|Accelerometer-201...|Brush_teeth|       6.0|(13,[6],[1.0])|[22.0,50.0,34.0]|[0.20754716981132...|[0.34920634920634...|\n",
            "| 22| 51| 35|Accelerometer-201...|Brush_teeth|       6.0|(13,[6],[1.0])|[22.0,51.0,35.0]|[0.20370370370370...|[0.34920634920634...|\n",
            "| 21| 51| 33|Accelerometer-201...|Brush_teeth|       6.0|(13,[6],[1.0])|[21.0,51.0,33.0]|[0.2,0.4857142857...|[0.33333333333333...|\n",
            "| 20| 50| 34|Accelerometer-201...|Brush_teeth|       6.0|(13,[6],[1.0])|[20.0,50.0,34.0]|[0.19230769230769...|[0.31746031746031...|\n",
            "| 21| 49| 33|Accelerometer-201...|Brush_teeth|       6.0|(13,[6],[1.0])|[21.0,49.0,33.0]|[0.20388349514563...|[0.33333333333333...|\n",
            "| 21| 49| 33|Accelerometer-201...|Brush_teeth|       6.0|(13,[6],[1.0])|[21.0,49.0,33.0]|[0.20388349514563...|[0.33333333333333...|\n",
            "| 20| 51| 35|Accelerometer-201...|Brush_teeth|       6.0|(13,[6],[1.0])|[20.0,51.0,35.0]|[0.18867924528301...|[0.31746031746031...|\n",
            "| 18| 49| 34|Accelerometer-201...|Brush_teeth|       6.0|(13,[6],[1.0])|[18.0,49.0,34.0]|[0.17821782178217...|[0.28571428571428...|\n",
            "| 19| 48| 34|Accelerometer-201...|Brush_teeth|       6.0|(13,[6],[1.0])|[19.0,48.0,34.0]|[0.18811881188118...|[0.30158730158730...|\n",
            "| 16| 53| 34|Accelerometer-201...|Brush_teeth|       6.0|(13,[6],[1.0])|[16.0,53.0,34.0]|[0.15533980582524...|[0.25396825396825...|\n",
            "| 18| 52| 35|Accelerometer-201...|Brush_teeth|       6.0|(13,[6],[1.0])|[18.0,52.0,35.0]|[0.17142857142857...|[0.28571428571428...|\n",
            "| 18| 51| 32|Accelerometer-201...|Brush_teeth|       6.0|(13,[6],[1.0])|[18.0,51.0,32.0]|[0.17821782178217...|[0.28571428571428...|\n",
            "+---+---+---+--------------------+-----------+----------+--------------+----------------+--------------------+--------------------+\n",
            "only showing top 20 rows\n",
            "\n"
          ]
        }
      ]
    },
    {
      "cell_type": "code",
      "source": [
        "from pyspark.ml.clustering import KMeans\n",
        "from pyspark.ml.evaluation import ClusteringEvaluator\n",
        "\n",
        "kmeans = KMeans(featuresCol=\"features\").setK(14).setSeed(1)\n",
        "pipeline = Pipeline(stages=[vectorAssembler, kmeans])\n",
        "model = pipeline.fit(df)\n",
        "predictions = model.transform(df)\n",
        "\n",
        "evaluator = ClusteringEvaluator()\n",
        "\n",
        "silhouette = evaluator.evaluate(predictions)\n",
        "print(\"Silhouette with squared euclidean distance = \" + str(silhouette))"
      ],
      "metadata": {
        "colab": {
          "base_uri": "https://localhost:8080/"
        },
        "id": "6jW7GRj-o9nr",
        "outputId": "2a108b6c-db2d-4848-c02d-f5d9e75f2cc3"
      },
      "execution_count": 8,
      "outputs": [
        {
          "output_type": "stream",
          "name": "stdout",
          "text": [
            "Silhouette with squared euclidean distance = 0.4020618068072166\n"
          ]
        }
      ]
    },
    {
      "cell_type": "code",
      "source": [
        ""
      ],
      "metadata": {
        "id": "5DtuTUZgr9CG"
      },
      "execution_count": null,
      "outputs": []
    },
    {
      "cell_type": "markdown",
      "source": [
        "ON feature normalized\n"
      ],
      "metadata": {
        "id": "vccODKSjsOqX"
      }
    },
    {
      "cell_type": "code",
      "source": [
        "kmeans = KMeans(featuresCol = \"features_norm\").setK(14).setSeed(1)\n",
        "pipeline = Pipeline(stages=[vectorAssembler, normalizer ,kmeans])\n",
        "model = pipeline.fit(df)\n",
        "\n",
        "predictions = model.transform(df)\n",
        "\n",
        "evaluator = ClusteringEvaluator()\n",
        "\n",
        "silhouette = evaluator.evaluate(predictions)\n",
        "print(\"Silhouette with squared euclidean distance = \" + str(silhouette))"
      ],
      "metadata": {
        "colab": {
          "base_uri": "https://localhost:8080/"
        },
        "id": "YofiqXR2sRdj",
        "outputId": "5920cb73-88b7-4c82-b379-2e08af19f4bd"
      },
      "execution_count": 9,
      "outputs": [
        {
          "output_type": "stream",
          "name": "stdout",
          "text": [
            "Silhouette with squared euclidean distance = 0.24303667657985278\n"
          ]
        }
      ]
    },
    {
      "cell_type": "code",
      "source": [
        ""
      ],
      "metadata": {
        "id": "WbrGzAvusqNu"
      },
      "execution_count": null,
      "outputs": []
    },
    {
      "cell_type": "markdown",
      "source": [
        "Inflating : Eg. x*10"
      ],
      "metadata": {
        "id": "njNvZjV9s1Zq"
      }
    },
    {
      "cell_type": "code",
      "source": [
        "from pyspark.sql.functions import col\n",
        "df_denormalized = df.select([col('*'),(col('x')*10)]).drop('x').withColumnRenamed('(x * 10)','x')"
      ],
      "metadata": {
        "id": "T-gfJNO3s4Ri"
      },
      "execution_count": 10,
      "outputs": []
    },
    {
      "cell_type": "code",
      "source": [
        "kmeans = KMeans(featuresCol=\"features\").setK(14).setSeed(1)\n",
        "pipeline = Pipeline(stages=[vectorAssembler, kmeans])\n",
        "model = pipeline.fit(df_denormalized)\n",
        "predictions = model.transform(df_denormalized)\n",
        "\n",
        "evaluator = ClusteringEvaluator()\n",
        "\n",
        "silhouette = evaluator.evaluate(predictions)\n",
        "print(\"Silhouette with squared euclidean distance = \" + str(silhouette))"
      ],
      "metadata": {
        "colab": {
          "base_uri": "https://localhost:8080/"
        },
        "id": "cryQn1Gvs6pe",
        "outputId": "07bfc659-319e-43ad-e4d2-5753be68933a"
      },
      "execution_count": 11,
      "outputs": [
        {
          "output_type": "stream",
          "name": "stdout",
          "text": [
            "Silhouette with squared euclidean distance = 0.5867136488435384\n"
          ]
        }
      ]
    },
    {
      "cell_type": "code",
      "source": [
        "from pyspark.ml.clustering import GaussianMixture\n",
        "\n",
        "gmm = GaussianMixture(featuresCol=\"features\")\n",
        "pipeline = Pipeline(stages = [vectorAssembler,normalizer, gmm])\n",
        "\n",
        "model = pipeline.fit(df)\n",
        "\n",
        "predictions = model.transform(df)\n",
        "\n",
        "evaluator = ClusteringEvaluator()\n",
        "\n",
        "silhouette = evaluator.evaluate(predictions)\n",
        "print(\"Silhouette with squared euclidean distance = \" + str(silhouette))"
      ],
      "metadata": {
        "colab": {
          "base_uri": "https://localhost:8080/"
        },
        "id": "5ShhaBKmtBtn",
        "outputId": "b5bb1e1e-9fed-4621-de86-0f57d43d302e"
      },
      "execution_count": 12,
      "outputs": [
        {
          "output_type": "stream",
          "name": "stdout",
          "text": [
            "Silhouette with squared euclidean distance = 0.5714593893099652\n"
          ]
        }
      ]
    },
    {
      "cell_type": "code",
      "source": [
        " "
      ],
      "metadata": {
        "id": "maLXMbJCt1sp"
      },
      "execution_count": null,
      "outputs": []
    },
    {
      "cell_type": "markdown",
      "source": [
        "*Week 4 : Supervised\n",
        "*"
      ],
      "metadata": {
        "id": "UV3XpyG6uaRb"
      }
    },
    {
      "cell_type": "markdown",
      "source": [
        ""
      ],
      "metadata": {
        "id": "dmrYtgBDuaZs"
      }
    },
    {
      "cell_type": "code",
      "source": [
        "# delete files from previous runs\n",
        "!rm -f hmp.parquet*\n",
        "\n",
        "# download the file containing the data in PARQUET format\n",
        "!wget https://github.com/IBM/coursera/raw/master/hmp.parquet\n",
        "    \n",
        "# create a dataframe out of it\n",
        "df = spark.read.parquet('hmp.parquet')\n",
        "\n",
        "# register a corresponding query table\n",
        "df.createOrReplaceTempView('df')\n",
        "\n",
        "splits = df.randomSplit([0.8, 0.2])\n",
        "df_train = splits[0]\n",
        "df_test = splits[1]"
      ],
      "metadata": {
        "colab": {
          "base_uri": "https://localhost:8080/"
        },
        "id": "4-qDPSA3uetQ",
        "outputId": "c3365fd4-f894-43a0-f751-7093290f5a15"
      },
      "execution_count": 14,
      "outputs": [
        {
          "output_type": "stream",
          "name": "stdout",
          "text": [
            "--2022-03-11 21:05:22--  https://github.com/IBM/coursera/raw/master/hmp.parquet\n",
            "Resolving github.com (github.com)... 140.82.114.4\n",
            "Connecting to github.com (github.com)|140.82.114.4|:443... connected.\n",
            "HTTP request sent, awaiting response... 301 Moved Permanently\n",
            "Location: https://github.com/IBM/claimed/raw/master/hmp.parquet [following]\n",
            "--2022-03-11 21:05:22--  https://github.com/IBM/claimed/raw/master/hmp.parquet\n",
            "Reusing existing connection to github.com:443.\n",
            "HTTP request sent, awaiting response... 302 Found\n",
            "Location: https://raw.githubusercontent.com/IBM/claimed/master/hmp.parquet [following]\n",
            "--2022-03-11 21:05:22--  https://raw.githubusercontent.com/IBM/claimed/master/hmp.parquet\n",
            "Resolving raw.githubusercontent.com (raw.githubusercontent.com)... 185.199.110.133, 185.199.108.133, 185.199.109.133, ...\n",
            "Connecting to raw.githubusercontent.com (raw.githubusercontent.com)|185.199.110.133|:443... connected.\n",
            "HTTP request sent, awaiting response... 200 OK\n",
            "Length: 932997 (911K) [application/octet-stream]\n",
            "Saving to: ‘hmp.parquet’\n",
            "\n",
            "hmp.parquet         100%[===================>] 911.13K  --.-KB/s    in 0.008s  \n",
            "\n",
            "2022-03-11 21:05:22 (106 MB/s) - ‘hmp.parquet’ saved [932997/932997]\n",
            "\n"
          ]
        }
      ]
    },
    {
      "cell_type": "code",
      "source": [
        "from pyspark.ml.feature import StringIndexer, OneHotEncoder\n",
        "from pyspark.ml.linalg import Vectors\n",
        "from pyspark.ml.feature import VectorAssembler\n",
        "from pyspark.ml.feature import Normalizer\n",
        "\n",
        "\n",
        "indexer = StringIndexer(inputCol=\"class\", outputCol=\"label\")\n",
        "\n",
        "vectorAssembler = VectorAssembler(inputCols=[\"x\",\"y\",\"z\"],\n",
        "                                  outputCol=\"features\")\n",
        "\n",
        "normalizer = Normalizer(inputCol=\"features\", outputCol=\"features_norm\", p=1.0)"
      ],
      "metadata": {
        "id": "0ufStpfUzKQt"
      },
      "execution_count": 15,
      "outputs": []
    },
    {
      "cell_type": "code",
      "source": [
        "from pyspark.ml.classification import LogisticRegression\n",
        "from pyspark.ml import Pipeline\n",
        "\n",
        "lr = LogisticRegression(maxIter=10, regParam=0.3, elasticNetParam=0.8)\n",
        "pipeline = Pipeline(stages=[indexer, vectorAssembler, normalizer,lr])\n",
        "model = pipeline.fit(df_train)\n",
        "prediction = model.transform(df_test)"
      ],
      "metadata": {
        "id": "dZJnbN5szbLN"
      },
      "execution_count": 16,
      "outputs": []
    },
    {
      "cell_type": "code",
      "source": [
        "prediction.printSchema()"
      ],
      "metadata": {
        "colab": {
          "base_uri": "https://localhost:8080/"
        },
        "id": "vZHrjeVGzohA",
        "outputId": "32d16eb7-61b6-4a17-cd7d-745e9f922a46"
      },
      "execution_count": 17,
      "outputs": [
        {
          "output_type": "stream",
          "name": "stdout",
          "text": [
            "root\n",
            " |-- x: integer (nullable = true)\n",
            " |-- y: integer (nullable = true)\n",
            " |-- z: integer (nullable = true)\n",
            " |-- source: string (nullable = true)\n",
            " |-- class: string (nullable = true)\n",
            " |-- label: double (nullable = false)\n",
            " |-- features: vector (nullable = true)\n",
            " |-- features_norm: vector (nullable = true)\n",
            " |-- rawPrediction: vector (nullable = true)\n",
            " |-- probability: vector (nullable = true)\n",
            " |-- prediction: double (nullable = false)\n",
            "\n"
          ]
        }
      ]
    },
    {
      "cell_type": "code",
      "source": [
        "from pyspark.ml.evaluation import MulticlassClassificationEvaluator\n",
        "MulticlassClassificationEvaluator().setMetricName(\"accuracy\").evaluate(prediction) "
      ],
      "metadata": {
        "colab": {
          "base_uri": "https://localhost:8080/"
        },
        "id": "I13_Ra1Cz0S7",
        "outputId": "d166f21c-ed0b-4f84-b138-578927c28055"
      },
      "execution_count": 18,
      "outputs": [
        {
          "output_type": "execute_result",
          "data": {
            "text/plain": [
              "0.20697074974784266"
            ]
          },
          "metadata": {},
          "execution_count": 18
        }
      ]
    },
    {
      "cell_type": "code",
      "source": [
        "\n",
        "from pyspark.ml.classification import RandomForestClassifier\n",
        "rf = RandomForestClassifier(numTrees=10)\n",
        "pipeline = Pipeline(stages=[indexer, vectorAssembler, normalizer,rf])\n",
        "model = pipeline.fit(df_train)\n",
        "prediction = model.transform(df_test)"
      ],
      "metadata": {
        "id": "ptBr58djz7r-"
      },
      "execution_count": 21,
      "outputs": []
    },
    {
      "cell_type": "code",
      "source": [
        "MulticlassClassificationEvaluator().setMetricName(\"accuracy\").evaluate(prediction) "
      ],
      "metadata": {
        "colab": {
          "base_uri": "https://localhost:8080/"
        },
        "id": "kXbiFZjy01j5",
        "outputId": "72d8b30e-a524-4ab5-f7e5-635804b75aa7"
      },
      "execution_count": 22,
      "outputs": [
        {
          "output_type": "execute_result",
          "data": {
            "text/plain": [
              "0.43967275579961895"
            ]
          },
          "metadata": {},
          "execution_count": 22
        }
      ]
    },
    {
      "cell_type": "code",
      "source": [
        ""
      ],
      "metadata": {
        "id": "WitXWn7h05pS"
      },
      "execution_count": null,
      "outputs": []
    },
    {
      "cell_type": "markdown",
      "source": [
        "Assignment"
      ],
      "metadata": {
        "id": "m1aBYdCX1W9P"
      }
    },
    {
      "cell_type": "code",
      "source": [
        "# delete files from previous runs\n",
        "!rm -rf noaa-weather-data-jfk-airport*\n",
        "\n",
        "# download the file containing the data in CSV format\n",
        "!wget https://dax-cdn.cdn.appdomain.cloud/dax-noaa-weather-data-jfk-airport/1.1.4/noaa-weather-data-jfk-airport.tar.gz\n",
        "\n",
        "# extract the data\n",
        "!tar xvfz noaa-weather-data-jfk-airport.tar.gz noaa-weather-data-jfk-airport/jfk_weather.csv\n",
        "    \n",
        "# create a dataframe out of it by using the first row as field names and trying to infer a schema based on contents\n",
        "df = spark.read.option(\"header\", \"true\").option(\"inferSchema\",\"true\").csv('noaa-weather-data-jfk-airport/jfk_weather.csv')\n",
        "\n",
        "# register a corresponding query table\n",
        "df.createOrReplaceTempView('df')"
      ],
      "metadata": {
        "colab": {
          "base_uri": "https://localhost:8080/"
        },
        "id": "lTDLf9lq1Xq8",
        "outputId": "4bb5c9a7-19ec-4144-c2a2-4c2edc9e63ef"
      },
      "execution_count": 23,
      "outputs": [
        {
          "output_type": "stream",
          "name": "stdout",
          "text": [
            "--2022-03-11 21:15:01--  https://dax-cdn.cdn.appdomain.cloud/dax-noaa-weather-data-jfk-airport/1.1.4/noaa-weather-data-jfk-airport.tar.gz\n",
            "Resolving dax-cdn.cdn.appdomain.cloud (dax-cdn.cdn.appdomain.cloud)... 104.86.99.206, 2600:141b:e800:393::d2d, 2600:141b:e800:387::d2d\n",
            "Connecting to dax-cdn.cdn.appdomain.cloud (dax-cdn.cdn.appdomain.cloud)|104.86.99.206|:443... connected.\n",
            "HTTP request sent, awaiting response... 200 OK\n",
            "Length: 3509993 (3.3M) [application/x-tar]\n",
            "Saving to: ‘noaa-weather-data-jfk-airport.tar.gz’\n",
            "\n",
            "noaa-weather-data-j 100%[===================>]   3.35M  --.-KB/s    in 0.07s   \n",
            "\n",
            "2022-03-11 21:15:01 (45.0 MB/s) - ‘noaa-weather-data-jfk-airport.tar.gz’ saved [3509993/3509993]\n",
            "\n",
            "noaa-weather-data-jfk-airport/jfk_weather.csv\n"
          ]
        }
      ]
    },
    {
      "cell_type": "code",
      "source": [
        "df.show()"
      ],
      "metadata": {
        "colab": {
          "base_uri": "https://localhost:8080/"
        },
        "id": "MLiOeyCi1v9V",
        "outputId": "2445cb01-0eef-490b-df76-24c78cd2ffc1"
      },
      "execution_count": 24,
      "outputs": [
        {
          "output_type": "stream",
          "name": "stdout",
          "text": [
            "+----------+--------------------+---------+--------+---------+----------------+----------+--------------------+----------------+-----------------------+------------------+------------------+------------------+------------------+-------------------+-------------------+----------------------+---------------+-------------------+-------------------+---------------------+----------------------+--------------------+----------------------+------------+----------------------+-----------------------+-----------------------+-----------------------+------------------------------+----------------------------+------------------------+-----------------------+----------------------+----------------------+------------+-----------+------------+-----------+-------------+--------------+---------------------------+----------------------------+---------------------+------------------+-----------------+-----------------------+---------------------------+------------------+------------------+---------------+----------------+-------------------+------------------+---------------------------+---------------------------+----------------------+-----------------------+-----------------------+--------------------+--------------------------------+--------------------------------+--------------------------------+---------------------------+------------------------+---------------------+-------------------------+-----------------------+---------------------------+------------------------+----------------------------+-----------------------+-----------------------+-----------------------+----------------------+--------------------------+--------------------------+----------------------+-------------------------------+------------------------------+------------------------------+-------------------------------+------------------------------+------------------------------+-----------------------------+-----------------------------+------------------------------+------------------------------+---------------------------------+---------------------------------+\n",
            "|   STATION|        STATION_NAME|ELEVATION|LATITUDE|LONGITUDE|            DATE|REPORTTPYE| HOURLYSKYCONDITIONS|HOURLYVISIBILITY|HOURLYPRSENTWEATHERTYPE|HOURLYDRYBULBTEMPF|HOURLYDRYBULBTEMPC|HOURLYWETBULBTEMPF|HOURLYWETBULBTEMPC|HOURLYDewPointTempF|HOURLYDewPointTempC|HOURLYRelativeHumidity|HOURLYWindSpeed|HOURLYWindDirection|HOURLYWindGustSpeed|HOURLYStationPressure|HOURLYPressureTendency|HOURLYPressureChange|HOURLYSeaLevelPressure|HOURLYPrecip|HOURLYAltimeterSetting|DAILYMaximumDryBulbTemp|DAILYMinimumDryBulbTemp|DAILYAverageDryBulbTemp|DAILYDeptFromNormalAverageTemp|DAILYAverageRelativeHumidity|DAILYAverageDewPointTemp|DAILYAverageWetBulbTemp|DAILYHeatingDegreeDays|DAILYCoolingDegreeDays|DAILYSunrise|DAILYSunset|DAILYWeather|DAILYPrecip|DAILYSnowfall|DAILYSnowDepth|DAILYAverageStationPressure|DAILYAverageSeaLevelPressure|DAILYAverageWindSpeed|DAILYPeakWindSpeed|PeakWindDirection|DAILYSustainedWindSpeed|DAILYSustainedWindDirection|MonthlyMaximumTemp|MonthlyMinimumTemp|MonthlyMeanTemp|MonthlyAverageRH|MonthlyDewpointTemp|MonthlyWetBulbTemp|MonthlyAvgHeatingDegreeDays|MonthlyAvgCoolingDegreeDays|MonthlyStationPressure|MonthlySeaLevelPressure|MonthlyAverageWindSpeed|MonthlyTotalSnowfall|MonthlyDeptFromNormalMaximumTemp|MonthlyDeptFromNormalMinimumTemp|MonthlyDeptFromNormalAverageTemp|MonthlyDeptFromNormalPrecip|MonthlyTotalLiquidPrecip|MonthlyGreatestPrecip|MonthlyGreatestPrecipDate|MonthlyGreatestSnowfall|MonthlyGreatestSnowfallDate|MonthlyGreatestSnowDepth|MonthlyGreatestSnowDepthDate|MonthlyDaysWithGT90Temp|MonthlyDaysWithLT32Temp|MonthlyDaysWithGT32Temp|MonthlyDaysWithLT0Temp|MonthlyDaysWithGT001Precip|MonthlyDaysWithGT010Precip|MonthlyDaysWithGT1Snow|MonthlyMaxSeaLevelPressureValue|MonthlyMaxSeaLevelPressureDate|MonthlyMaxSeaLevelPressureTime|MonthlyMinSeaLevelPressureValue|MonthlyMinSeaLevelPressureDate|MonthlyMinSeaLevelPressureTime|MonthlyTotalHeatingDegreeDays|MonthlyTotalCoolingDegreeDays|MonthlyDeptFromNormalHeatingDD|MonthlyDeptFromNormalCoolingDD|MonthlyTotalSeasonToDateHeatingDD|MonthlyTotalSeasonToDateCoolingDD|\n",
            "+----------+--------------------+---------+--------+---------+----------------+----------+--------------------+----------------+-----------------------+------------------+------------------+------------------+------------------+-------------------+-------------------+----------------------+---------------+-------------------+-------------------+---------------------+----------------------+--------------------+----------------------+------------+----------------------+-----------------------+-----------------------+-----------------------+------------------------------+----------------------------+------------------------+-----------------------+----------------------+----------------------+------------+-----------+------------+-----------+-------------+--------------+---------------------------+----------------------------+---------------------+------------------+-----------------+-----------------------+---------------------------+------------------+------------------+---------------+----------------+-------------------+------------------+---------------------------+---------------------------+----------------------+-----------------------+-----------------------+--------------------+--------------------------------+--------------------------------+--------------------------------+---------------------------+------------------------+---------------------+-------------------------+-----------------------+---------------------------+------------------------+----------------------------+-----------------------+-----------------------+-----------------------+----------------------+--------------------------+--------------------------+----------------------+-------------------------------+------------------------------+------------------------------+-------------------------------+------------------------------+------------------------------+-----------------------------+-----------------------------+------------------------------+------------------------------+---------------------------------+---------------------------------+\n",
            "|WBAN:94789|JFK INTERNATIONAL...|      3.4| 40.6386| -73.7622|2010-01-01 00:51|     FM-15|FEW:02 7 SCT:04 1...|            6.00|   -RA:02 PL:06 BR:1...|                33|               0.6|                32|               0.1|                 31|               -0.6|                    92|              0|                000|               null|                29.97|                     8|                null|                 29.99|        0.01|                 29.99|                   null|                   null|                   null|                          null|                        null|                    null|                   null|                  null|                  null|         719|       1639|        null|       null|         null|          null|                       null|                        null|                 null|              null|             null|                   null|                       null|              null|              null|           null|            null|               null|              null|                       null|                       null|                  null|                   null|                   null|                null|                            null|                            null|                            null|                       null|                    null|                 null|                     null|                   null|                       null|                    null|                        null|                   null|                   null|                   null|                  null|                      null|                      null|                  null|                           null|                         -9999|                         -9999|                           null|                         -9999|                         -9999|                         null|                         null|                          null|                          null|                             null|                             null|\n",
            "|WBAN:94789|JFK INTERNATIONAL...|      3.4| 40.6386| -73.7622|2010-01-01 01:00|     FM-12|                null|            5.59|                ||PL:79|                33|               0.6|                32|               0.1|                 31|               -0.6|                    92|              0|                000|               null|                29.96|                     8|               +0.05|                 29.99|        null|                  null|                     34|                     30|                     32|                          -1.7|                        null|                    null|                   null|                    33|                     0|         719|       1639|        null|       null|         null|          null|                       null|                        null|                 null|              null|             null|                   null|                       null|              null|              null|           null|            null|               null|              null|                       null|                       null|                  null|                   null|                   null|                null|                            null|                            null|                            null|                       null|                    null|                 null|                     null|                   null|                       null|                    null|                        null|                   null|                   null|                   null|                  null|                      null|                      null|                  null|                           null|                         -9999|                         -9999|                           null|                         -9999|                         -9999|                         null|                         null|                          null|                          null|                             null|                             null|\n",
            "|WBAN:94789|JFK INTERNATIONAL...|      3.4| 40.6386| -73.7622|2010-01-01 01:51|     FM-15|FEW:02 6 SCT:04 1...|            6.00|   -RA:02 PL:06 BR:1...|                33|               0.6|                33|               0.3|                 32|                0.0|                    96|              0|                000|               null|                29.97|                  null|                null|                 29.99|        0.02|                 29.99|                   null|                   null|                   null|                          null|                        null|                    null|                   null|                  null|                  null|         719|       1639|        null|       null|         null|          null|                       null|                        null|                 null|              null|             null|                   null|                       null|              null|              null|           null|            null|               null|              null|                       null|                       null|                  null|                   null|                   null|                null|                            null|                            null|                            null|                       null|                    null|                 null|                     null|                   null|                       null|                    null|                        null|                   null|                   null|                   null|                  null|                      null|                      null|                  null|                           null|                         -9999|                         -9999|                           null|                         -9999|                         -9999|                         null|                         null|                          null|                          null|                             null|                             null|\n",
            "|WBAN:94789|JFK INTERNATIONAL...|      3.4| 40.6386| -73.7622|2010-01-01 02:03|     FM-16|FEW:02 6 SCT:04 1...|            6.00|   -RA:02 BR:1 |RA:6...|                34|               1.0|                33|               0.7|                 32|                0.0|                    93|              0|                000|               null|                29.97|                  null|                null|                  null|           T|                 29.99|                   null|                   null|                   null|                          null|                        null|                    null|                   null|                  null|                  null|         719|       1639|        null|       null|         null|          null|                       null|                        null|                 null|              null|             null|                   null|                       null|              null|              null|           null|            null|               null|              null|                       null|                       null|                  null|                   null|                   null|                null|                            null|                            null|                            null|                       null|                    null|                 null|                     null|                   null|                       null|                    null|                        null|                   null|                   null|                   null|                  null|                      null|                      null|                  null|                           null|                         -9999|                         -9999|                           null|                         -9999|                         -9999|                         null|                         null|                          null|                          null|                             null|                             null|\n",
            "|WBAN:94789|JFK INTERNATIONAL...|      3.4| 40.6386| -73.7622|2010-01-01 02:28|     FM-16|BKN:07 7 BKN:07 1...|            5.00|   -RA:02 BR:1 |RA:6...|                34|               1.0|                33|               0.7|                 32|                0.0|                    93|              0|                000|               null|                29.97|                  null|                null|                  null|           T|                 29.99|                   null|                   null|                   null|                          null|                        null|                    null|                   null|                  null|                  null|         719|       1639|        null|       null|         null|          null|                       null|                        null|                 null|              null|             null|                   null|                       null|              null|              null|           null|            null|               null|              null|                       null|                       null|                  null|                   null|                   null|                null|                            null|                            null|                            null|                       null|                    null|                 null|                     null|                   null|                       null|                    null|                        null|                   null|                   null|                   null|                  null|                      null|                      null|                  null|                           null|                         -9999|                         -9999|                           null|                         -9999|                         -9999|                         null|                         null|                          null|                          null|                             null|                             null|\n",
            "|WBAN:94789|JFK INTERNATIONAL...|      3.4| 40.6386| -73.7622|2010-01-01 02:51|     FM-15|  BKN:07 7 OVC:08 15|            5.00|   -RA:02 BR:1 |RA:6...|                33|               0.6|                33|               0.3|                 32|                0.0|                    96|              0|                000|               null|                29.97|                  null|                null|                 29.99|           T|                 29.99|                   null|                   null|                   null|                          null|                        null|                    null|                   null|                  null|                  null|         719|       1639|        null|       null|         null|          null|                       null|                        null|                 null|              null|             null|                   null|                       null|              null|              null|           null|            null|               null|              null|                       null|                       null|                  null|                   null|                   null|                null|                            null|                            null|                            null|                       null|                    null|                 null|                     null|                   null|                       null|                    null|                        null|                   null|                   null|                   null|                  null|                      null|                      null|                  null|                           null|                         -9999|                         -9999|                           null|                         -9999|                         -9999|                         null|                         null|                          null|                          null|                             null|                             null|\n",
            "|WBAN:94789|JFK INTERNATIONAL...|      3.4| 40.6386| -73.7622|2010-01-01 03:51|     FM-15|  FEW:02 5 OVC:08 12|            5.00|   -RA:02 BR:1 |RA:6...|                33|               0.6|                33|               0.3|                 32|                0.0|                    96|              0|                000|               null|                29.95|                     8|                null|                 29.97|           T|                 29.97|                   null|                   null|                   null|                          null|                        null|                    null|                   null|                  null|                  null|         719|       1639|        null|       null|         null|          null|                       null|                        null|                 null|              null|             null|                   null|                       null|              null|              null|           null|            null|               null|              null|                       null|                       null|                  null|                   null|                   null|                null|                            null|                            null|                            null|                       null|                    null|                 null|                     null|                   null|                       null|                    null|                        null|                   null|                   null|                   null|                  null|                      null|                      null|                  null|                           null|                         -9999|                         -9999|                           null|                         -9999|                         -9999|                         null|                         null|                          null|                          null|                             null|                             null|\n",
            "|WBAN:94789|JFK INTERNATIONAL...|      3.4| 40.6386| -73.7622|2010-01-01 04:00|     FM-12|                null|            4.97|                ||RA:61|                33|               0.6|                33|               0.3|                 32|                0.0|                    96|              0|                000|               null|                29.94|                     8|               +0.03|                 29.97|        null|                  null|                   null|                   null|                   null|                          null|                        null|                    null|                   null|                  null|                  null|         719|       1639|        null|       null|         null|          null|                       null|                        null|                 null|              null|             null|                   null|                       null|              null|              null|           null|            null|               null|              null|                       null|                       null|                  null|                   null|                   null|                null|                            null|                            null|                            null|                       null|                    null|                 null|                     null|                   null|                       null|                    null|                        null|                   null|                   null|                   null|                  null|                      null|                      null|                  null|                           null|                         -9999|                         -9999|                           null|                         -9999|                         -9999|                         null|                         null|                          null|                          null|                             null|                             null|\n",
            "|WBAN:94789|JFK INTERNATIONAL...|      3.4| 40.6386| -73.7622|2010-01-01 04:51|     FM-15| BKN:07 11 OVC:08 35|            5.00|   -RA:02 BR:1 |RA:6...|                33|               0.6|                32|               0.1|                 31|               -0.6|                    92|              0|                000|               null|                29.93|                  null|                null|                 29.96|           T|                 29.95|                   null|                   null|                   null|                          null|                        null|                    null|                   null|                  null|                  null|         719|       1639|        null|       null|         null|          null|                       null|                        null|                 null|              null|             null|                   null|                       null|              null|              null|           null|            null|               null|              null|                       null|                       null|                  null|                   null|                   null|                null|                            null|                            null|                            null|                       null|                    null|                 null|                     null|                   null|                       null|                    null|                        null|                   null|                   null|                   null|                  null|                      null|                      null|                  null|                           null|                         -9999|                         -9999|                           null|                         -9999|                         -9999|                         null|                         null|                          null|                          null|                             null|                             null|\n",
            "|WBAN:94789|JFK INTERNATIONAL...|      3.4| 40.6386| -73.7622|2010-01-01 05:49|     FM-16|            BKN:07 9|            5.00|                BR:1 |||                34|               1.0|                32|               0.3|                 30|               -1.0|                    87|              0|                000|               null|                29.95|                  null|                null|                  null|        null|                 29.97|                   null|                   null|                   null|                          null|                        null|                    null|                   null|                  null|                  null|         719|       1639|        null|       null|         null|          null|                       null|                        null|                 null|              null|             null|                   null|                       null|              null|              null|           null|            null|               null|              null|                       null|                       null|                  null|                   null|                   null|                null|                            null|                            null|                            null|                       null|                    null|                 null|                     null|                   null|                       null|                    null|                        null|                   null|                   null|                   null|                  null|                      null|                      null|                  null|                           null|                         -9999|                         -9999|                           null|                         -9999|                         -9999|                         null|                         null|                          null|                          null|                             null|                             null|\n",
            "|WBAN:94789|JFK INTERNATIONAL...|      3.4| 40.6386| -73.7622|2010-01-01 05:51|     FM-15|            OVC:08 9|            5.00|                BR:1 |||                33|               0.6|                32|               0.1|                 31|               -0.6|                    92|              0|                000|               null|                29.95|                  null|                null|                 29.97|           T|                 29.97|                   null|                   null|                   null|                          null|                        null|                    null|                   null|                  null|                  null|         719|       1639|        null|       null|         null|          null|                       null|                        null|                 null|              null|             null|                   null|                       null|              null|              null|           null|            null|               null|              null|                       null|                       null|                  null|                   null|                   null|                null|                            null|                            null|                            null|                       null|                    null|                 null|                     null|                   null|                       null|                    null|                        null|                   null|                   null|                   null|                  null|                      null|                      null|                  null|                           null|                         -9999|                         -9999|                           null|                         -9999|                         -9999|                         null|                         null|                          null|                          null|                             null|                             null|\n",
            "|WBAN:94789|JFK INTERNATIONAL...|      3.4| 40.6386| -73.7622|2010-01-01 06:51|     FM-15|            OVC:08 7|            4.00|                BR:1 |||                33|               0.6|                33|               0.3|                 32|                0.0|                    96|              0|                000|               null|                29.94|                     6|                null|                 29.96|        0.00|                 29.96|                   null|                   null|                   null|                          null|                        null|                    null|                   null|                  null|                  null|         719|       1639|        null|       0.29|         null|          null|                       null|                        null|                 null|              null|             null|                   null|                       null|              null|              null|           null|            null|               null|              null|                       null|                       null|                  null|                   null|                   null|                null|                            null|                            null|                            null|                       null|                    null|                 null|                     null|                   null|                       null|                    null|                        null|                   null|                   null|                   null|                  null|                      null|                      null|                  null|                           null|                         -9999|                         -9999|                           null|                         -9999|                         -9999|                         null|                         null|                          null|                          null|                             null|                             null|\n",
            "|WBAN:94789|JFK INTERNATIONAL...|      3.4| 40.6386| -73.7622|2010-01-01 07:00|     FM-12|                null|            3.73|                   null|                33|               0.6|                33|               0.3|                 32|                0.0|                    96|              0|                000|               null|                29.93|                     6|               +0.01|                 29.96|        null|                  null|                     35|                   null|                   null|                          null|                        null|                    null|                   null|                  null|                  null|         719|       1639|        null|       0.29|         null|          null|                       null|                        null|                 null|              null|             null|                   null|                       null|              null|              null|           null|            null|               null|              null|                       null|                       null|                  null|                   null|                   null|                null|                            null|                            null|                            null|                       null|                    null|                 null|                     null|                   null|                       null|                    null|                        null|                   null|                   null|                   null|                  null|                      null|                      null|                  null|                           null|                         -9999|                         -9999|                           null|                         -9999|                         -9999|                         null|                         null|                          null|                          null|                             null|                             null|\n",
            "|WBAN:94789|JFK INTERNATIONAL...|      3.4| 40.6386| -73.7622|2010-01-01 07:19|     FM-16|   BKN:07 5 OVC:08 9|            2.00|                BR:1 |||                34|               1.0|                33|               0.7|                 32|                0.0|                    93|              3|                220|               null|                29.93|                  null|                null|                  null|        null|                 29.95|                   null|                   null|                   null|                          null|                        null|                    null|                   null|                  null|                  null|         719|       1639|        null|       null|         null|          null|                       null|                        null|                 null|              null|             null|                   null|                       null|              null|              null|           null|            null|               null|              null|                       null|                       null|                  null|                   null|                   null|                null|                            null|                            null|                            null|                       null|                    null|                 null|                     null|                   null|                       null|                    null|                        null|                   null|                   null|                   null|                  null|                      null|                      null|                  null|                           null|                         -9999|                         -9999|                           null|                         -9999|                         -9999|                         null|                         null|                          null|                          null|                             null|                             null|\n",
            "|WBAN:94789|JFK INTERNATIONAL...|      3.4| 40.6386| -73.7622|2010-01-01 07:49|     FM-16|            OVC:08 5|            1.25|                BR:1 |||                34|               1.0|                33|               0.7|                 32|                0.0|                    93|              0|                000|               null|                29.93|                  null|                null|                  null|        null|                 29.95|                   null|                   null|                   null|                          null|                        null|                    null|                   null|                  null|                  null|         719|       1639|        null|       null|         null|          null|                       null|                        null|                 null|              null|             null|                   null|                       null|              null|              null|           null|            null|               null|              null|                       null|                       null|                  null|                   null|                   null|                null|                            null|                            null|                            null|                       null|                    null|                 null|                     null|                   null|                       null|                    null|                        null|                   null|                   null|                   null|                  null|                      null|                      null|                  null|                           null|                         -9999|                         -9999|                           null|                         -9999|                         -9999|                         null|                         null|                          null|                          null|                             null|                             null|\n",
            "|WBAN:94789|JFK INTERNATIONAL...|      3.4| 40.6386| -73.7622|2010-01-01 07:51|     FM-15|            OVC:08 5|            1.25|                BR:1 |||                33|               0.6|                33|               0.3|                 32|                0.0|                    96|              3|                270|               null|                29.93|                  null|                null|                 29.95|        0.00|                 29.95|                   null|                   null|                   null|                          null|                        null|                    null|                   null|                  null|                  null|         719|       1639|        null|       null|         null|          null|                       null|                        null|                 null|              null|             null|                   null|                       null|              null|              null|           null|            null|               null|              null|                       null|                       null|                  null|                   null|                   null|                null|                            null|                            null|                            null|                       null|                    null|                 null|                     null|                   null|                       null|                    null|                        null|                   null|                   null|                   null|                  null|                      null|                      null|                  null|                           null|                         -9999|                         -9999|                           null|                         -9999|                         -9999|                         null|                         null|                          null|                          null|                             null|                             null|\n",
            "|WBAN:94789|JFK INTERNATIONAL...|      3.4| 40.6386| -73.7622|2010-01-01 08:38|     FM-16|           OVC:08 18|            2.00|                BR:1 |||                34|               1.0|                33|               0.7|                 32|                0.0|                    93|              5|                260|               null|                29.92|                  null|                null|                  null|        null|                 29.94|                   null|                   null|                   null|                          null|                        null|                    null|                   null|                  null|                  null|         719|       1639|        null|       null|         null|          null|                       null|                        null|                 null|              null|             null|                   null|                       null|              null|              null|           null|            null|               null|              null|                       null|                       null|                  null|                   null|                   null|                null|                            null|                            null|                            null|                       null|                    null|                 null|                     null|                   null|                       null|                    null|                        null|                   null|                   null|                   null|                  null|                      null|                      null|                  null|                           null|                         -9999|                         -9999|                           null|                         -9999|                         -9999|                         null|                         null|                          null|                          null|                             null|                             null|\n",
            "|WBAN:94789|JFK INTERNATIONAL...|      3.4| 40.6386| -73.7622|2010-01-01 08:49|     FM-16| SCT:04 18 BKN:07 75|            2.50|                BR:1 |||                34|               1.0|                33|               0.7|                 32|                0.0|                    93|              3|                250|               null|                29.92|                  null|                null|                  null|        null|                 29.94|                   null|                   null|                   null|                          null|                        null|                    null|                   null|                  null|                  null|         719|       1639|        null|       null|         null|          null|                       null|                        null|                 null|              null|             null|                   null|                       null|              null|              null|           null|            null|               null|              null|                       null|                       null|                  null|                   null|                   null|                null|                            null|                            null|                            null|                       null|                    null|                 null|                     null|                   null|                       null|                    null|                        null|                   null|                   null|                   null|                  null|                      null|                      null|                  null|                           null|                         -9999|                         -9999|                           null|                         -9999|                         -9999|                         null|                         null|                          null|                          null|                             null|                             null|\n",
            "|WBAN:94789|JFK INTERNATIONAL...|      3.4| 40.6386| -73.7622|2010-01-01 08:51|     FM-15| SCT:04 18 BKN:07 75|            2.50|                BR:1 |||                34|               1.1|                33|               0.7|                 32|                0.0|                    92|              3|                250|               null|                29.92|                  null|                null|                 29.94|        0.00|                 29.94|                   null|                   null|                   null|                          null|                        null|                    null|                   null|                  null|                  null|         719|       1639|        null|       null|         null|          null|                       null|                        null|                 null|              null|             null|                   null|                       null|              null|              null|           null|            null|               null|              null|                       null|                       null|                  null|                   null|                   null|                null|                            null|                            null|                            null|                       null|                    null|                 null|                     null|                   null|                       null|                    null|                        null|                   null|                   null|                   null|                  null|                      null|                      null|                  null|                           null|                         -9999|                         -9999|                           null|                         -9999|                         -9999|                         null|                         null|                          null|                          null|                             null|                             null|\n",
            "|WBAN:94789|JFK INTERNATIONAL...|      3.4| 40.6386| -73.7622|2010-01-01 09:51|     FM-15| SCT:04 11 OVC:08 75|            2.50|                BR:1 |||                35|               1.7|                34|               1.0|                 32|                0.0|                    89|              6|                250|               null|                29.91|                     6|                null|                 29.93|        0.00|                 29.93|                   null|                   null|                   null|                          null|                        null|                    null|                   null|                  null|                  null|         719|       1639|        null|       null|         null|          null|                       null|                        null|                 null|              null|             null|                   null|                       null|              null|              null|           null|            null|               null|              null|                       null|                       null|                  null|                   null|                   null|                null|                            null|                            null|                            null|                       null|                    null|                 null|                     null|                   null|                       null|                    null|                        null|                   null|                   null|                   null|                  null|                      null|                      null|                  null|                           null|                         -9999|                         -9999|                           null|                         -9999|                         -9999|                         null|                         null|                          null|                          null|                             null|                             null|\n",
            "+----------+--------------------+---------+--------+---------+----------------+----------+--------------------+----------------+-----------------------+------------------+------------------+------------------+------------------+-------------------+-------------------+----------------------+---------------+-------------------+-------------------+---------------------+----------------------+--------------------+----------------------+------------+----------------------+-----------------------+-----------------------+-----------------------+------------------------------+----------------------------+------------------------+-----------------------+----------------------+----------------------+------------+-----------+------------+-----------+-------------+--------------+---------------------------+----------------------------+---------------------+------------------+-----------------+-----------------------+---------------------------+------------------+------------------+---------------+----------------+-------------------+------------------+---------------------------+---------------------------+----------------------+-----------------------+-----------------------+--------------------+--------------------------------+--------------------------------+--------------------------------+---------------------------+------------------------+---------------------+-------------------------+-----------------------+---------------------------+------------------------+----------------------------+-----------------------+-----------------------+-----------------------+----------------------+--------------------------+--------------------------+----------------------+-------------------------------+------------------------------+------------------------------+-------------------------------+------------------------------+------------------------------+-----------------------------+-----------------------------+------------------------------+------------------------------+---------------------------------+---------------------------------+\n",
            "only showing top 20 rows\n",
            "\n"
          ]
        }
      ]
    },
    {
      "cell_type": "code",
      "source": [
        "import random\n",
        "random.seed(42)\n",
        "\n",
        "from pyspark.sql.functions import translate, col\n",
        "\n",
        "df_cleaned = df \\\n",
        "    .withColumn(\"HOURLYWindSpeed\", df.HOURLYWindSpeed.cast('double')) \\\n",
        "    .withColumn(\"HOURLYWindDirection\", df.HOURLYWindDirection.cast('double')) \\\n",
        "    .withColumn(\"HOURLYStationPressure\", translate(col(\"HOURLYStationPressure\"), \"s,\", \"\")) \\\n",
        "    .withColumn(\"HOURLYPrecip\", translate(col(\"HOURLYPrecip\"), \"s,\", \"\")) \\\n",
        "    .withColumn(\"HOURLYRelativeHumidity\", translate(col(\"HOURLYRelativeHumidity\"), \"*\", \"\")) \\\n",
        "    .withColumn(\"HOURLYDRYBULBTEMPC\", translate(col(\"HOURLYDRYBULBTEMPC\"), \"*\", \"\")) \\\n",
        "\n",
        "df_cleaned =   df_cleaned \\\n",
        "                    .withColumn(\"HOURLYStationPressure\", df_cleaned.HOURLYStationPressure.cast('double')) \\\n",
        "                    .withColumn(\"HOURLYPrecip\", df_cleaned.HOURLYPrecip.cast('double')) \\\n",
        "                    .withColumn(\"HOURLYRelativeHumidity\", df_cleaned.HOURLYRelativeHumidity.cast('double')) \\\n",
        "                    .withColumn(\"HOURLYDRYBULBTEMPC\", df_cleaned.HOURLYDRYBULBTEMPC.cast('double')) \\\n",
        "\n",
        "df_filtered = df_cleaned.filter(\"\"\"\n",
        "    HOURLYWindSpeed <> 0\n",
        "    and HOURLYWindSpeed IS NOT NULL\n",
        "    and HOURLYWindDirection IS NOT NULL\n",
        "    and HOURLYStationPressure IS NOT NULL\n",
        "    and HOURLYPressureTendency IS NOT NULL\n",
        "    and HOURLYPrecip IS NOT NULL\n",
        "    and HOURLYRelativeHumidity IS NOT NULL\n",
        "    and HOURLYDRYBULBTEMPC IS NOT NULL\n",
        "\"\"\")"
      ],
      "metadata": {
        "id": "qvh42_Q91bTn"
      },
      "execution_count": 25,
      "outputs": []
    },
    {
      "cell_type": "code",
      "source": [
        "df_filtered.show()"
      ],
      "metadata": {
        "colab": {
          "base_uri": "https://localhost:8080/"
        },
        "id": "-QKUXpgz19Ci",
        "outputId": "8df9bc68-f423-495c-a7b5-03218d015565"
      },
      "execution_count": 26,
      "outputs": [
        {
          "output_type": "stream",
          "name": "stdout",
          "text": [
            "+----------+--------------------+---------+--------+---------+----------------+----------+--------------------+----------------+-----------------------+------------------+------------------+------------------+------------------+-------------------+-------------------+----------------------+---------------+-------------------+-------------------+---------------------+----------------------+--------------------+----------------------+------------+----------------------+-----------------------+-----------------------+-----------------------+------------------------------+----------------------------+------------------------+-----------------------+----------------------+----------------------+------------+-----------+------------+-----------+-------------+--------------+---------------------------+----------------------------+---------------------+------------------+-----------------+-----------------------+---------------------------+------------------+------------------+---------------+----------------+-------------------+------------------+---------------------------+---------------------------+----------------------+-----------------------+-----------------------+--------------------+--------------------------------+--------------------------------+--------------------------------+---------------------------+------------------------+---------------------+-------------------------+-----------------------+---------------------------+------------------------+----------------------------+-----------------------+-----------------------+-----------------------+----------------------+--------------------------+--------------------------+----------------------+-------------------------------+------------------------------+------------------------------+-------------------------------+------------------------------+------------------------------+-----------------------------+-----------------------------+------------------------------+------------------------------+---------------------------------+---------------------------------+\n",
            "|   STATION|        STATION_NAME|ELEVATION|LATITUDE|LONGITUDE|            DATE|REPORTTPYE| HOURLYSKYCONDITIONS|HOURLYVISIBILITY|HOURLYPRSENTWEATHERTYPE|HOURLYDRYBULBTEMPF|HOURLYDRYBULBTEMPC|HOURLYWETBULBTEMPF|HOURLYWETBULBTEMPC|HOURLYDewPointTempF|HOURLYDewPointTempC|HOURLYRelativeHumidity|HOURLYWindSpeed|HOURLYWindDirection|HOURLYWindGustSpeed|HOURLYStationPressure|HOURLYPressureTendency|HOURLYPressureChange|HOURLYSeaLevelPressure|HOURLYPrecip|HOURLYAltimeterSetting|DAILYMaximumDryBulbTemp|DAILYMinimumDryBulbTemp|DAILYAverageDryBulbTemp|DAILYDeptFromNormalAverageTemp|DAILYAverageRelativeHumidity|DAILYAverageDewPointTemp|DAILYAverageWetBulbTemp|DAILYHeatingDegreeDays|DAILYCoolingDegreeDays|DAILYSunrise|DAILYSunset|DAILYWeather|DAILYPrecip|DAILYSnowfall|DAILYSnowDepth|DAILYAverageStationPressure|DAILYAverageSeaLevelPressure|DAILYAverageWindSpeed|DAILYPeakWindSpeed|PeakWindDirection|DAILYSustainedWindSpeed|DAILYSustainedWindDirection|MonthlyMaximumTemp|MonthlyMinimumTemp|MonthlyMeanTemp|MonthlyAverageRH|MonthlyDewpointTemp|MonthlyWetBulbTemp|MonthlyAvgHeatingDegreeDays|MonthlyAvgCoolingDegreeDays|MonthlyStationPressure|MonthlySeaLevelPressure|MonthlyAverageWindSpeed|MonthlyTotalSnowfall|MonthlyDeptFromNormalMaximumTemp|MonthlyDeptFromNormalMinimumTemp|MonthlyDeptFromNormalAverageTemp|MonthlyDeptFromNormalPrecip|MonthlyTotalLiquidPrecip|MonthlyGreatestPrecip|MonthlyGreatestPrecipDate|MonthlyGreatestSnowfall|MonthlyGreatestSnowfallDate|MonthlyGreatestSnowDepth|MonthlyGreatestSnowDepthDate|MonthlyDaysWithGT90Temp|MonthlyDaysWithLT32Temp|MonthlyDaysWithGT32Temp|MonthlyDaysWithLT0Temp|MonthlyDaysWithGT001Precip|MonthlyDaysWithGT010Precip|MonthlyDaysWithGT1Snow|MonthlyMaxSeaLevelPressureValue|MonthlyMaxSeaLevelPressureDate|MonthlyMaxSeaLevelPressureTime|MonthlyMinSeaLevelPressureValue|MonthlyMinSeaLevelPressureDate|MonthlyMinSeaLevelPressureTime|MonthlyTotalHeatingDegreeDays|MonthlyTotalCoolingDegreeDays|MonthlyDeptFromNormalHeatingDD|MonthlyDeptFromNormalCoolingDD|MonthlyTotalSeasonToDateHeatingDD|MonthlyTotalSeasonToDateCoolingDD|\n",
            "+----------+--------------------+---------+--------+---------+----------------+----------+--------------------+----------------+-----------------------+------------------+------------------+------------------+------------------+-------------------+-------------------+----------------------+---------------+-------------------+-------------------+---------------------+----------------------+--------------------+----------------------+------------+----------------------+-----------------------+-----------------------+-----------------------+------------------------------+----------------------------+------------------------+-----------------------+----------------------+----------------------+------------+-----------+------------+-----------+-------------+--------------+---------------------------+----------------------------+---------------------+------------------+-----------------+-----------------------+---------------------------+------------------+------------------+---------------+----------------+-------------------+------------------+---------------------------+---------------------------+----------------------+-----------------------+-----------------------+--------------------+--------------------------------+--------------------------------+--------------------------------+---------------------------+------------------------+---------------------+-------------------------+-----------------------+---------------------------+------------------------+----------------------------+-----------------------+-----------------------+-----------------------+----------------------+--------------------------+--------------------------+----------------------+-------------------------------+------------------------------+------------------------------+-------------------------------+------------------------------+------------------------------+-----------------------------+-----------------------------+------------------------------+------------------------------+---------------------------------+---------------------------------+\n",
            "|WBAN:94789|JFK INTERNATIONAL...|      3.4| 40.6386| -73.7622|2010-01-01 09:51|     FM-15| SCT:04 11 OVC:08 75|            2.50|                BR:1 |||                35|               1.7|                34|               1.0|                 32|                0.0|                  89.0|            6.0|              250.0|               null|                29.91|                     6|                null|                 29.93|         0.0|                 29.93|                   null|                   null|                   null|                          null|                        null|                    null|                   null|                  null|                  null|         719|       1639|        null|       null|         null|          null|                       null|                        null|                 null|              null|             null|                   null|                       null|              null|              null|           null|            null|               null|              null|                       null|                       null|                  null|                   null|                   null|                null|                            null|                            null|                            null|                       null|                    null|                 null|                     null|                   null|                       null|                    null|                        null|                   null|                   null|                   null|                  null|                      null|                      null|                  null|                           null|                         -9999|                         -9999|                           null|                         -9999|                         -9999|                         null|                         null|                          null|                          null|                             null|                             null|\n",
            "|WBAN:94789|JFK INTERNATIONAL...|      3.4| 40.6386| -73.7622|2010-01-01 12:51|     FM-15| SCT:04 18 BKN:07 65|            7.00|                   null|                39|               3.9|                37|               2.7|                 34|                1.1|                  82.0|            6.0|              230.0|               null|                29.83|                     8|                null|                 29.85|         0.0|                 29.85|                   null|                   null|                   null|                          null|                        null|                    null|                   null|                  null|                  null|         719|       1639|        null|       null|         null|          null|                       null|                        null|                 null|              null|             null|                   null|                       null|              null|              null|           null|            null|               null|              null|                       null|                       null|                  null|                   null|                   null|                null|                            null|                            null|                            null|                       null|                    null|                 null|                     null|                   null|                       null|                    null|                        null|                   null|                   null|                   null|                  null|                      null|                      null|                  null|                           null|                         -9999|                         -9999|                           null|                         -9999|                         -9999|                         null|                         null|                          null|                          null|                             null|                             null|\n",
            "|WBAN:94789|JFK INTERNATIONAL...|      3.4| 40.6386| -73.7622|2010-01-01 15:51|     FM-15|FEW:02 20 BKN:07 ...|            9.00|                   null|                38|               3.3|                36|               2.0|                 32|                0.0|                  79.0|            7.0|              350.0|               null|                29.81|                     8|                null|                 29.83|         0.0|                 29.83|                   null|                   null|                   null|                          null|                        null|                    null|                   null|                  null|                  null|         719|       1639|        null|       null|         null|          null|                       null|                        null|                 null|              null|             null|                   null|                       null|              null|              null|           null|            null|               null|              null|                       null|                       null|                  null|                   null|                   null|                null|                            null|                            null|                            null|                       null|                    null|                 null|                     null|                   null|                       null|                    null|                        null|                   null|                   null|                   null|                  null|                      null|                      null|                  null|                           null|                         -9999|                         -9999|                           null|                         -9999|                         -9999|                         null|                         null|                          null|                          null|                             null|                             null|\n",
            "|WBAN:94789|JFK INTERNATIONAL...|      3.4| 40.6386| -73.7622|2010-01-01 18:51|     FM-15|BKN:07 46 BKN:07 250|           10.00|                   null|                40|               4.4|                36|               2.4|                 31|               -0.6|                  70.0|            9.0|              330.0|               null|                29.78|                     8|                null|                 29.81|         0.0|                 29.80|                   null|                   null|                   null|                          null|                        null|                    null|                   null|                  null|                  null|         719|       1639|        null|       null|         null|          null|                       null|                        null|                 null|              null|             null|                   null|                       null|              null|              null|           null|            null|               null|              null|                       null|                       null|                  null|                   null|                   null|                null|                            null|                            null|                            null|                       null|                    null|                 null|                     null|                   null|                       null|                    null|                        null|                   null|                   null|                   null|                  null|                      null|                      null|                  null|                           null|                         -9999|                         -9999|                           null|                         -9999|                         -9999|                         null|                         null|                          null|                          null|                             null|                             null|\n",
            "|WBAN:94789|JFK INTERNATIONAL...|      3.4| 40.6386| -73.7622|2010-01-01 21:51|     FM-15| FEW:02 50 OVC:08 75|           10.00|                   null|                38|               3.3|                34|               1.4|                 29|               -1.7|                  70.0|            9.0|              320.0|               null|                29.73|                     7|                null|                 29.75|         0.0|                 29.75|                   null|                   null|                   null|                          null|                        null|                    null|                   null|                  null|                  null|         719|       1639|        null|       null|         null|          null|                       null|                        null|                 null|              null|             null|                   null|                       null|              null|              null|           null|            null|               null|              null|                       null|                       null|                  null|                   null|                   null|                null|                            null|                            null|                            null|                       null|                    null|                 null|                     null|                   null|                       null|                    null|                        null|                   null|                   null|                   null|                  null|                      null|                      null|                  null|                           null|                         -9999|                         -9999|                           null|                         -9999|                         -9999|                         null|                         null|                          null|                          null|                             null|                             null|\n",
            "|WBAN:94789|JFK INTERNATIONAL...|      3.4| 40.6386| -73.7622|2010-01-02 09:51|     FM-15|FEW:02 28 SCT:04 ...|           10.00|                   null|                28|              -2.2|                24|              -4.5|                 15|               -9.4|                  58.0|           24.0|              320.0|                 32|                29.65|                     5|                null|                 29.67|         0.0|                 29.67|                   null|                   null|                   null|                          null|                        null|                    null|                   null|                  null|                  null|         719|       1639|        null|       null|         null|          null|                       null|                        null|                 null|              null|             null|                   null|                       null|              null|              null|           null|            null|               null|              null|                       null|                       null|                  null|                   null|                   null|                null|                            null|                            null|                            null|                       null|                    null|                 null|                     null|                   null|                       null|                    null|                        null|                   null|                   null|                   null|                  null|                      null|                      null|                  null|                           null|                         -9999|                         -9999|                           null|                         -9999|                         -9999|                         null|                         null|                          null|                          null|                             null|                             null|\n",
            "|WBAN:94789|JFK INTERNATIONAL...|      3.4| 40.6386| -73.7622|2010-01-02 15:51|     FM-15|FEW:02 32 BKN:07 ...|           10.00|                   null|                26|              -3.3|                21|              -6.0|                  9|              -12.8|                  48.0|           28.0|              310.0|                 36|                29.63|                     3|                null|                 29.65|         0.0|                 29.65|                   null|                   null|                   null|                          null|                        null|                    null|                   null|                  null|                  null|         719|       1639|        null|       null|         null|          null|                       null|                        null|                 null|              null|             null|                   null|                       null|              null|              null|           null|            null|               null|              null|                       null|                       null|                  null|                   null|                   null|                null|                            null|                            null|                            null|                       null|                    null|                 null|                     null|                   null|                       null|                    null|                        null|                   null|                   null|                   null|                  null|                      null|                      null|                  null|                           null|                         -9999|                         -9999|                           null|                         -9999|                         -9999|                         null|                         null|                          null|                          null|                             null|                             null|\n",
            "|WBAN:94789|JFK INTERNATIONAL...|      3.4| 40.6386| -73.7622|2010-01-02 18:51|     FM-15|FEW:02 110 BKN:07...|           10.00|                   null|                21|              -6.1|                17|              -8.3|                  5|              -15.0|                  50.0|           23.0|              310.0|                 39|                29.67|                     1|                null|                 29.69|         0.0|                 29.69|                   null|                   null|                   null|                          null|                        null|                    null|                   null|                  null|                  null|         719|       1639|        null|       null|         null|          null|                       null|                        null|                 null|              null|             null|                   null|                       null|              null|              null|           null|            null|               null|              null|                       null|                       null|                  null|                   null|                   null|                null|                            null|                            null|                            null|                       null|                    null|                 null|                     null|                   null|                       null|                    null|                        null|                   null|                   null|                   null|                  null|                      null|                      null|                  null|                           null|                         -9999|                         -9999|                           null|                         -9999|                         -9999|                         null|                         null|                          null|                          null|                             null|                             null|\n",
            "|WBAN:94789|JFK INTERNATIONAL...|      3.4| 40.6386| -73.7622|2010-01-02 21:51|     FM-15|FEW:02 110 SCT:04...|           10.00|                   null|                18|              -7.8|                14|              -9.7|                  3|              -16.1|                  52.0|           23.0|              310.0|                 33|                29.65|                     8|                null|                 29.67|         0.0|                 29.67|                   null|                   null|                   null|                          null|                        null|                    null|                   null|                  null|                  null|         719|       1640|        null|       null|         null|          null|                       null|                        null|                 null|              null|             null|                   null|                       null|              null|              null|           null|            null|               null|              null|                       null|                       null|                  null|                   null|                   null|                null|                            null|                            null|                            null|                       null|                    null|                 null|                     null|                   null|                       null|                    null|                        null|                   null|                   null|                   null|                  null|                      null|                      null|                  null|                           null|                         -9999|                         -9999|                           null|                         -9999|                         -9999|                         null|                         null|                          null|                          null|                             null|                             null|\n",
            "|WBAN:94789|JFK INTERNATIONAL...|      3.4| 40.6386| -73.7622|2010-01-03 00:51|     FM-15|FEW:02 50 SCT:04 ...|           10.00|                   null|                18|              -7.8|                14|              -9.7|                  3|              -16.1|                  52.0|           30.0|              300.0|                 47|                29.59|                     8|                null|                 29.61|         0.0|                 29.61|                   null|                   null|                   null|                          null|                        null|                    null|                   null|                  null|                  null|         719|       1640|        null|       null|         null|          null|                       null|                        null|                 null|              null|             null|                   null|                       null|              null|              null|           null|            null|               null|              null|                       null|                       null|                  null|                   null|                   null|                null|                            null|                            null|                            null|                       null|                    null|                 null|                     null|                   null|                       null|                    null|                        null|                   null|                   null|                   null|                  null|                      null|                      null|                  null|                           null|                         -9999|                         -9999|                           null|                         -9999|                         -9999|                         null|                         null|                          null|                          null|                             null|                             null|\n",
            "|WBAN:94789|JFK INTERNATIONAL...|      3.4| 40.6386| -73.7622|2010-01-03 03:51|     FM-15|FEW:02 50 SCT:04 ...|           10.00|                   null|                18|              -7.8|                14|              -9.7|                  3|              -16.1|                  52.0|           22.0|              290.0|                 34|                29.53|                     8|                null|                 29.55|         0.0|                 29.55|                   null|                   null|                   null|                          null|                        null|                    null|                   null|                  null|                  null|         719|       1640|        null|       null|         null|          null|                       null|                        null|                 null|              null|             null|                   null|                       null|              null|              null|           null|            null|               null|              null|                       null|                       null|                  null|                   null|                   null|                null|                            null|                            null|                            null|                       null|                    null|                 null|                     null|                   null|                       null|                    null|                        null|                   null|                   null|                   null|                  null|                      null|                      null|                  null|                           null|                         -9999|                         -9999|                           null|                         -9999|                         -9999|                         null|                         null|                          null|                          null|                             null|                             null|\n",
            "|WBAN:94789|JFK INTERNATIONAL...|      3.4| 40.6386| -73.7622|2010-01-03 06:51|     FM-15|FEW:02 35 SCT:04 ...|           10.00|                   null|                19|              -7.2|                15|              -9.2|                  4|              -15.6|                  51.0|           26.0|              300.0|                 34|                29.47|                     8|                null|                 29.49|         0.0|                 29.49|                   null|                   null|                   null|                          null|                        null|                    null|                   null|                  null|                  null|         719|       1640|        null|       null|         null|          null|                       null|                        null|                 null|              null|             null|                   null|                       null|              null|              null|           null|            null|               null|              null|                       null|                       null|                  null|                   null|                   null|                null|                            null|                            null|                            null|                       null|                    null|                 null|                     null|                   null|                       null|                    null|                        null|                   null|                   null|                   null|                  null|                      null|                      null|                  null|                           null|                         -9999|                         -9999|                           null|                         -9999|                         -9999|                         null|                         null|                          null|                          null|                             null|                             null|\n",
            "|WBAN:94789|JFK INTERNATIONAL...|      3.4| 40.6386| -73.7622|2010-01-03 09:51|     FM-15|SCT:04 42 BKN:07 ...|           10.00|                   null|                22|              -5.6|                18|              -8.0|                  5|              -15.0|                  48.0|           22.0|              310.0|                 40|                29.47|                     3|                null|                 29.49|         0.0|                 29.49|                   null|                   null|                   null|                          null|                        null|                    null|                   null|                  null|                  null|         719|       1640|        null|       null|         null|          null|                       null|                        null|                 null|              null|             null|                   null|                       null|              null|              null|           null|            null|               null|              null|                       null|                       null|                  null|                   null|                   null|                null|                            null|                            null|                            null|                       null|                    null|                 null|                     null|                   null|                       null|                    null|                        null|                   null|                   null|                   null|                  null|                      null|                      null|                  null|                           null|                         -9999|                         -9999|                           null|                         -9999|                         -9999|                         null|                         null|                          null|                          null|                             null|                             null|\n",
            "|WBAN:94789|JFK INTERNATIONAL...|      3.4| 40.6386| -73.7622|2010-01-03 12:51|     FM-15|FEW:02 39 BKN:07 ...|           10.00|                   null|                23|              -5.0|                18|              -7.7|                  4|              -15.6|                  44.0|           29.0|              310.0|                 37|                29.45|                     5|                null|                 29.47|         0.0|                 29.47|                   null|                   null|                   null|                          null|                        null|                    null|                   null|                  null|                  null|         719|       1640|        null|       null|         null|          null|                       null|                        null|                 null|              null|             null|                   null|                       null|              null|              null|           null|            null|               null|              null|                       null|                       null|                  null|                   null|                   null|                null|                            null|                            null|                            null|                       null|                    null|                 null|                     null|                   null|                       null|                    null|                        null|                   null|                   null|                   null|                  null|                      null|                      null|                  null|                           null|                         -9999|                         -9999|                           null|                         -9999|                         -9999|                         null|                         null|                          null|                          null|                             null|                             null|\n",
            "|WBAN:94789|JFK INTERNATIONAL...|      3.4| 40.6386| -73.7622|2010-01-03 18:51|     FM-15| SCT:04 47 OVC:08 80|           10.00|                   null|                21|              -6.1|                17|              -8.2|                  6|              -14.4|                  52.0|           25.0|              320.0|                 39|                29.58|                     1|                null|                 29.60|         0.0|                 29.60|                   null|                   null|                   null|                          null|                        null|                    null|                   null|                  null|                  null|         719|       1640|        null|       null|         null|          null|                       null|                        null|                 null|              null|             null|                   null|                       null|              null|              null|           null|            null|               null|              null|                       null|                       null|                  null|                   null|                   null|                null|                            null|                            null|                            null|                       null|                    null|                 null|                     null|                   null|                       null|                    null|                        null|                   null|                   null|                   null|                  null|                      null|                      null|                  null|                           null|                         -9999|                         -9999|                           null|                         -9999|                         -9999|                         null|                         null|                          null|                          null|                             null|                             null|\n",
            "|WBAN:94789|JFK INTERNATIONAL...|      3.4| 40.6386| -73.7622|2010-01-03 21:51|     FM-15|FEW:02 60 BKN:07 ...|           10.00|                   null|                21|              -6.1|                17|              -8.2|                  6|              -14.4|                  52.0|           25.0|              320.0|                 36|                29.61|                     3|                null|                 29.63|         0.0|                 29.63|                   null|                   null|                   null|                          null|                        null|                    null|                   null|                  null|                  null|         719|       1641|        null|       null|         null|          null|                       null|                        null|                 null|              null|             null|                   null|                       null|              null|              null|           null|            null|               null|              null|                       null|                       null|                  null|                   null|                   null|                null|                            null|                            null|                            null|                       null|                    null|                 null|                     null|                   null|                       null|                    null|                        null|                   null|                   null|                   null|                  null|                      null|                      null|                  null|                           null|                         -9999|                         -9999|                           null|                         -9999|                         -9999|                         null|                         null|                          null|                          null|                             null|                             null|\n",
            "|WBAN:94789|JFK INTERNATIONAL...|      3.4| 40.6386| -73.7622|2010-01-04 00:51|     FM-15|FEW:02 60 SCT:04 ...|           10.00|                   null|                21|              -6.1|                17|              -8.1|                  7|              -13.9|                  54.0|           21.0|              310.0|                 26|                29.64|                     3|                null|                 29.66|         0.0|                 29.66|                   null|                   null|                   null|                          null|                        null|                    null|                   null|                  null|                  null|         719|       1641|        null|       null|         null|          null|                       null|                        null|                 null|              null|             null|                   null|                       null|              null|              null|           null|            null|               null|              null|                       null|                       null|                  null|                   null|                   null|                null|                            null|                            null|                            null|                       null|                    null|                 null|                     null|                   null|                       null|                    null|                        null|                   null|                   null|                   null|                  null|                      null|                      null|                  null|                           null|                         -9999|                         -9999|                           null|                         -9999|                         -9999|                         null|                         null|                          null|                          null|                             null|                             null|\n",
            "|WBAN:94789|JFK INTERNATIONAL...|      3.4| 40.6386| -73.7622|2010-01-04 03:51|     FM-15|          FEW:02 100|           10.00|                   null|                21|              -6.1|                18|              -8.0|                  8|              -13.3|                  57.0|           20.0|              310.0|                 25|                29.66|                     3|                null|                 29.68|         0.0|                 29.68|                   null|                   null|                   null|                          null|                        null|                    null|                   null|                  null|                  null|         719|       1641|        null|       null|         null|          null|                       null|                        null|                 null|              null|             null|                   null|                       null|              null|              null|           null|            null|               null|              null|                       null|                       null|                  null|                   null|                   null|                null|                            null|                            null|                            null|                       null|                    null|                 null|                     null|                   null|                       null|                    null|                        null|                   null|                   null|                   null|                  null|                      null|                      null|                  null|                           null|                         -9999|                         -9999|                           null|                         -9999|                         -9999|                         null|                         null|                          null|                          null|                             null|                             null|\n",
            "|WBAN:94789|JFK INTERNATIONAL...|      3.4| 40.6386| -73.7622|2010-01-04 06:51|     FM-15|FEW:02 40 SCT:04 ...|           10.00|                   null|                20|              -6.7|                17|              -8.4|                  8|              -13.3|                  60.0|           13.0|              320.0|               null|                29.69|                     1|                null|                 29.71|         0.0|                 29.71|                   null|                   null|                   null|                          null|                        null|                    null|                   null|                  null|                  null|         719|       1641|        null|       null|         null|          null|                       null|                        null|                 null|              null|             null|                   null|                       null|              null|              null|           null|            null|               null|              null|                       null|                       null|                  null|                   null|                   null|                null|                            null|                            null|                            null|                       null|                    null|                 null|                     null|                   null|                       null|                    null|                        null|                   null|                   null|                   null|                  null|                      null|                      null|                  null|                           null|                         -9999|                         -9999|                           null|                         -9999|                         -9999|                         null|                         null|                          null|                          null|                             null|                             null|\n",
            "|WBAN:94789|JFK INTERNATIONAL...|      3.4| 40.6386| -73.7622|2010-01-04 09:51|     FM-15|FEW:02 85 BKN:07 250|           10.00|                   null|                26|              -3.3|                21|              -6.0|                  9|              -12.8|                  48.0|           21.0|              310.0|               null|                29.71|                     1|                null|                 29.73|         0.0|                 29.73|                   null|                   null|                   null|                          null|                        null|                    null|                   null|                  null|                  null|         719|       1641|        null|       null|         null|          null|                       null|                        null|                 null|              null|             null|                   null|                       null|              null|              null|           null|            null|               null|              null|                       null|                       null|                  null|                   null|                   null|                null|                            null|                            null|                            null|                       null|                    null|                 null|                     null|                   null|                       null|                    null|                        null|                   null|                   null|                   null|                  null|                      null|                      null|                  null|                           null|                         -9999|                         -9999|                           null|                         -9999|                         -9999|                         null|                         null|                          null|                          null|                             null|                             null|\n",
            "+----------+--------------------+---------+--------+---------+----------------+----------+--------------------+----------------+-----------------------+------------------+------------------+------------------+------------------+-------------------+-------------------+----------------------+---------------+-------------------+-------------------+---------------------+----------------------+--------------------+----------------------+------------+----------------------+-----------------------+-----------------------+-----------------------+------------------------------+----------------------------+------------------------+-----------------------+----------------------+----------------------+------------+-----------+------------+-----------+-------------+--------------+---------------------------+----------------------------+---------------------+------------------+-----------------+-----------------------+---------------------------+------------------+------------------+---------------+----------------+-------------------+------------------+---------------------------+---------------------------+----------------------+-----------------------+-----------------------+--------------------+--------------------------------+--------------------------------+--------------------------------+---------------------------+------------------------+---------------------+-------------------------+-----------------------+---------------------------+------------------------+----------------------------+-----------------------+-----------------------+-----------------------+----------------------+--------------------------+--------------------------+----------------------+-------------------------------+------------------------------+------------------------------+-------------------------------+------------------------------+------------------------------+-----------------------------+-----------------------------+------------------------------+------------------------------+---------------------------------+---------------------------------+\n",
            "only showing top 20 rows\n",
            "\n"
          ]
        }
      ]
    },
    {
      "cell_type": "code",
      "source": [
        "from pyspark.ml.feature import VectorAssembler\n",
        "vectorAssembler = VectorAssembler(inputCols=[\"HOURLYWindSpeed\",\"HOURLYWindDirection\",\"HOURLYStationPressure\"],\n",
        "                                  outputCol=\"features\")\n",
        "df_pipeline = vectorAssembler.transform(df_filtered)\n",
        "from pyspark.ml.stat import Correlation\n",
        "Correlation.corr(df_pipeline,\"features\").head()[0].toArray()"
      ],
      "metadata": {
        "colab": {
          "base_uri": "https://localhost:8080/"
        },
        "id": "nVQ7KAOd1_OL",
        "outputId": "6d9de0d3-e6a5-41af-9883-f8aa394226c2"
      },
      "execution_count": 43,
      "outputs": [
        {
          "output_type": "stream",
          "name": "stderr",
          "text": [
            "/usr/local/lib/python3.7/dist-packages/pyspark/sql/context.py:127: FutureWarning: Deprecated in 3.0.0. Use SparkSession.builder.getOrCreate() instead.\n",
            "  FutureWarning\n"
          ]
        },
        {
          "output_type": "execute_result",
          "data": {
            "text/plain": [
              "array([[ 1.        ,  0.25478863, -0.26171147],\n",
              "       [ 0.25478863,  1.        , -0.13377466],\n",
              "       [-0.26171147, -0.13377466,  1.        ]])"
            ]
          },
          "metadata": {},
          "execution_count": 43
        }
      ]
    },
    {
      "cell_type": "code",
      "source": [
        "splits = df_filtered.randomSplit([0.8, 0.2])\n",
        "df_train = splits[0]\n",
        "df_test = splits[1]"
      ],
      "metadata": {
        "id": "Y8yAEC7h2Yi7"
      },
      "execution_count": 44,
      "outputs": []
    },
    {
      "cell_type": "code",
      "source": [
        "from pyspark.ml.feature import StringIndexer, OneHotEncoder\n",
        "from pyspark.ml.linalg import Vectors\n",
        "from pyspark.ml.feature import VectorAssembler\n",
        "from pyspark.ml.feature import Normalizer\n",
        "from pyspark.ml import Pipeline\n",
        "\n",
        "vectorAssembler = VectorAssembler(inputCols=[\n",
        "                                    \"HOURLYWindDirection\",\n",
        "                                    \"ELEVATION\",\n",
        "                                    \"HOURLYStationPressure\"],\n",
        "                                  outputCol=\"features\")\n",
        "\n",
        "normalizer = Normalizer(inputCol=\"features\", outputCol=\"features_norm\", p=1.0)"
      ],
      "metadata": {
        "id": "z18qNzlh2h4b"
      },
      "execution_count": 45,
      "outputs": []
    },
    {
      "cell_type": "code",
      "source": [
        "def regression_metrics(prediction):\n",
        "    from pyspark.ml.evaluation import RegressionEvaluator\n",
        "    evaluator = RegressionEvaluator(\n",
        "    labelCol=\"HOURLYWindSpeed\", predictionCol=\"prediction\", metricName=\"rmse\")\n",
        "    rmse = evaluator.evaluate(prediction)\n",
        "    print(\"RMSE on test data = %g\" % rmse)"
      ],
      "metadata": {
        "id": "yWwkYYC-2mZe"
      },
      "execution_count": 46,
      "outputs": []
    },
    {
      "cell_type": "code",
      "source": [
        "#LR1\n",
        "\n",
        "from pyspark.ml.regression import LinearRegression\n",
        "\n",
        "\n",
        "lr = LinearRegression(labelCol=\"HOURLYWindSpeed\", featuresCol='features', maxIter=100, regParam=0.0, elasticNetParam=0.0)\n",
        "pipeline = Pipeline(stages=[vectorAssembler, normalizer,lr])\n",
        "model = pipeline.fit(df_train)\n",
        "prediction = model.transform(df_test)\n",
        "regression_metrics(prediction)"
      ],
      "metadata": {
        "colab": {
          "base_uri": "https://localhost:8080/"
        },
        "id": "XMOtyW3i2pj1",
        "outputId": "857e0844-2a2d-4dc5-c09c-fca56cee7e26"
      },
      "execution_count": 47,
      "outputs": [
        {
          "output_type": "stream",
          "name": "stdout",
          "text": [
            "RMSE on test data = 5.35606\n"
          ]
        }
      ]
    },
    {
      "cell_type": "code",
      "source": [
        "#GBT1\n",
        "\n",
        "from pyspark.ml.regression import GBTRegressor\n",
        "gbt = GBTRegressor(labelCol=\"HOURLYWindSpeed\", maxIter=100)\n",
        "pipeline = Pipeline(stages=[vectorAssembler, normalizer,gbt])\n",
        "model = pipeline.fit(df_train)\n",
        "prediction = model.transform(df_test)\n",
        "regression_metrics(prediction)"
      ],
      "metadata": {
        "colab": {
          "base_uri": "https://localhost:8080/"
        },
        "id": "Sl0v5itB20LH",
        "outputId": "ae437eb1-b693-4902-9753-e914404a723e"
      },
      "execution_count": 50,
      "outputs": [
        {
          "output_type": "stream",
          "name": "stdout",
          "text": [
            "RMSE on test data = 5.14284\n"
          ]
        }
      ]
    },
    {
      "cell_type": "code",
      "source": [
        "from pyspark.ml.feature import Bucketizer, OneHotEncoder\n",
        "bucketizer = Bucketizer(splits=[ 0, 180, float('Inf') ],inputCol=\"HOURLYWindDirection\", outputCol=\"HOURLYWindDirectionBucketized\")\n",
        "encoder = OneHotEncoder(inputCol=\"HOURLYWindDirectionBucketized\", outputCol=\"HOURLYWindDirectionOHE\")"
      ],
      "metadata": {
        "id": "4qz6eYvF29Qu"
      },
      "execution_count": 33,
      "outputs": []
    },
    {
      "cell_type": "code",
      "source": [
        "def classification_metrics(prediction):\n",
        "    from pyspark.ml.evaluation import MulticlassClassificationEvaluator\n",
        "    mcEval = MulticlassClassificationEvaluator().setMetricName(\"accuracy\") .setPredictionCol(\"prediction\").setLabelCol(\"HOURLYWindDirectionBucketized\")\n",
        "    accuracy = mcEval.evaluate(prediction)\n",
        "    print(\"Accuracy on test data = %g\" % accuracy)"
      ],
      "metadata": {
        "id": "_pQ-9HsQ3HLj"
      },
      "execution_count": 34,
      "outputs": []
    },
    {
      "cell_type": "code",
      "source": [
        "#LGReg1\n",
        "\n",
        "from pyspark.ml.classification import LogisticRegression\n",
        "lr = LogisticRegression(labelCol=\"HOURLYWindDirectionBucketized\", maxIter=10)\n",
        "#,\"ELEVATION\",\"HOURLYStationPressure\",\"HOURLYPressureTendency\",\"HOURLYPrecip\"\n",
        "\n",
        "vectorAssembler = VectorAssembler(inputCols=[\"HOURLYWindSpeed\",\"HOURLYDRYBULBTEMPC\"],\n",
        "                                  outputCol=\"features\")\n",
        "\n",
        "pipeline = Pipeline(stages=[bucketizer,vectorAssembler,normalizer,lr])\n",
        "model = pipeline.fit(df_train)\n",
        "prediction = model.transform(df_test)\n",
        "classification_metrics(prediction)"
      ],
      "metadata": {
        "colab": {
          "base_uri": "https://localhost:8080/"
        },
        "id": "6HmbQnSI3Kq0",
        "outputId": "703e9603-7bfe-4332-c4b8-41c74ff5cce8"
      },
      "execution_count": 35,
      "outputs": [
        {
          "output_type": "stream",
          "name": "stdout",
          "text": [
            "Accuracy on test data = 0.681374\n"
          ]
        }
      ]
    },
    {
      "cell_type": "code",
      "source": [
        "#RF1\n",
        "\n",
        "from pyspark.ml.classification import RandomForestClassifier\n",
        "rf = RandomForestClassifier(labelCol=\"HOURLYWindDirectionBucketized\", numTrees=30)\n",
        "\n",
        "vectorAssembler = VectorAssembler(inputCols=[\"HOURLYWindSpeed\",\"HOURLYDRYBULBTEMPC\",\"ELEVATION\",\"HOURLYStationPressure\",\"HOURLYPressureTendency\",\"HOURLYPrecip\"],\n",
        "                                  outputCol=\"features\")\n",
        "\n",
        "pipeline = Pipeline(stages=[bucketizer,vectorAssembler,normalizer,rf])\n",
        "model = pipeline.fit(df_train)\n",
        "prediction = model.transform(df_test)\n",
        "classification_metrics(prediction)"
      ],
      "metadata": {
        "colab": {
          "base_uri": "https://localhost:8080/"
        },
        "id": "fqw1KlMI3VQO",
        "outputId": "14fc0099-8f1f-4a44-fe87-eb76f705c1c1"
      },
      "execution_count": 36,
      "outputs": [
        {
          "output_type": "stream",
          "name": "stdout",
          "text": [
            "Accuracy on test data = 0.71617\n"
          ]
        }
      ]
    },
    {
      "cell_type": "code",
      "source": [
        "#GBT2\n",
        "\n",
        "from pyspark.ml.classification import GBTClassifier\n",
        "gbt = GBTClassifier(labelCol=\"HOURLYWindDirectionBucketized\", maxIter=100)\n",
        "\n",
        "vectorAssembler = VectorAssembler(inputCols=[\"HOURLYWindSpeed\",\"HOURLYDRYBULBTEMPC\",\"ELEVATION\",\"HOURLYStationPressure\",\"HOURLYPressureTendency\",\"HOURLYPrecip\"],\n",
        "                                  outputCol=\"features\")\n",
        "\n",
        "pipeline = Pipeline(stages=[bucketizer,vectorAssembler,normalizer,gbt])\n",
        "model = pipeline.fit(df_train)\n",
        "prediction = model.transform(df_test)\n",
        "classification_metrics(prediction)"
      ],
      "metadata": {
        "colab": {
          "base_uri": "https://localhost:8080/"
        },
        "id": "mgtja1-n3af3",
        "outputId": "3e65b224-837f-4444-a21e-f67b5ab9bcc5"
      },
      "execution_count": 37,
      "outputs": [
        {
          "output_type": "stream",
          "name": "stdout",
          "text": [
            "Accuracy on test data = 0.727087\n"
          ]
        }
      ]
    },
    {
      "cell_type": "code",
      "source": [
        "#q1\n",
        "from pyspark.ml.feature import VectorAssembler\n",
        "vectorAssembler = VectorAssembler(inputCols=[\"HOURLYWindSpeed\",\"HOURLYPressureTendency\"],\n",
        "                                  outputCol=\"features\")\n",
        "df_pipeline = vectorAssembler.transform(df_filtered)\n",
        "from pyspark.ml.stat import Correlation\n",
        "Correlation.corr(df_pipeline,\"features\").head()[0].toArray()"
      ],
      "metadata": {
        "colab": {
          "base_uri": "https://localhost:8080/"
        },
        "id": "YEFo8Ts-3d_-",
        "outputId": "5bb9f71c-e0a9-4fcc-f46f-fb126d969d11"
      },
      "execution_count": 38,
      "outputs": [
        {
          "output_type": "stream",
          "name": "stderr",
          "text": [
            "/usr/local/lib/python3.7/dist-packages/pyspark/sql/context.py:127: FutureWarning: Deprecated in 3.0.0. Use SparkSession.builder.getOrCreate() instead.\n",
            "  FutureWarning\n"
          ]
        },
        {
          "output_type": "execute_result",
          "data": {
            "text/plain": [
              "array([[ 1.        , -0.01324305],\n",
              "       [-0.01324305,  1.        ]])"
            ]
          },
          "metadata": {},
          "execution_count": 38
        }
      ]
    },
    {
      "cell_type": "code",
      "source": [
        "#q2\n",
        "#LR1\n",
        "\n",
        "from pyspark.ml.regression import LinearRegression\n",
        "\n",
        "\n",
        "lr = LinearRegression(labelCol=\"HOURLYWindSpeed\", featuresCol='features_norm', maxIter=100, regParam=0.0, elasticNetParam=0.0)\n",
        "pipeline = Pipeline(stages=[vectorAssembler, normalizer,lr])\n",
        "model = pipeline.fit(df_train)\n",
        "prediction = model.transform(df_test)\n",
        "regression_metrics(prediction)"
      ],
      "metadata": {
        "id": "WKFYpBBU4OFh",
        "outputId": "00ed4cd2-2806-4a8b-9589-b1dcdbd6fa4f",
        "colab": {
          "base_uri": "https://localhost:8080/"
        }
      },
      "execution_count": 49,
      "outputs": [
        {
          "output_type": "stream",
          "name": "stdout",
          "text": [
            "RMSE on test data = 5.64506\n"
          ]
        }
      ]
    },
    {
      "cell_type": "code",
      "source": [
        "#RF1\n",
        "\n",
        "from pyspark.ml.classification import RandomForestClassifier\n",
        "rf = RandomForestClassifier(labelCol=\"HOURLYWindDirectionBucketized\", numTrees=10)#30->10\n",
        "\n",
        "vectorAssembler = VectorAssembler(inputCols=[\"HOURLYWindSpeed\",\"HOURLYDRYBULBTEMPC\",\"ELEVATION\",\"HOURLYStationPressure\",\"HOURLYPressureTendency\",\"HOURLYPrecip\"],\n",
        "                                  outputCol=\"features\")\n",
        "\n",
        "pipeline = Pipeline(stages=[bucketizer,vectorAssembler,normalizer,rf])\n",
        "model = pipeline.fit(df_train)\n",
        "prediction = model.transform(df_test)\n",
        "classification_metrics(prediction)"
      ],
      "metadata": {
        "id": "opRtpnkP45ka",
        "outputId": "45aa5ebc-cfb2-43bc-c266-ee2b346e46fc",
        "colab": {
          "base_uri": "https://localhost:8080/"
        }
      },
      "execution_count": 41,
      "outputs": [
        {
          "output_type": "stream",
          "name": "stdout",
          "text": [
            "Accuracy on test data = 0.717307\n"
          ]
        }
      ]
    },
    {
      "cell_type": "code",
      "source": [
        "#Quiz\n",
        "# your code goes here\n",
        "import math\n",
        "l1 = list(map(int,input().split(\",\")))\n",
        "l2 = list(map(int,input().split(\",\")))\n",
        "mean1 = 1.0 * sum(l1)/len(l1)\n",
        "mean2 = 1.0 * sum(l2)/len(l2)\n",
        "bias1 = [x-mean1 for x in l1] \n",
        "bias2 = [x-mean2 for x in l2]\n",
        "var1 = sum([pow(x,2)/len(l1) for x in bias1])\n",
        "var2 = sum([pow(x,2)/len(l2) for x in bias2])\n",
        "std1 = pow(var1,0.5)\n",
        "std2 = pow(var2, 0.5)\n",
        "cov = 1.0 * sum([x*y for x,y in zip(bias1, bias2)])/len(l1)\n",
        "print(cov, var1, var2)\n",
        "corr = round(cov/ (std1 * std2),3)\n",
        "print(corr)\n",
        "\n",
        "l = sorted(l1)\n",
        "n = len(l)\n",
        "mean = 1.0 * sum(l)/n\n",
        "print(l,n)\n",
        "median = 1.0 * (l[n//2] + l[n//2-1])/2\n",
        "bias = [1.0 * (x - mean) for x in l]\n",
        "stdlst = [pow(x,2)/(n-1) for x in bias]\n",
        "kurtlist = [pow(x,4) for x in bias]\n",
        "skewlist = [pow(x,3) for x in bias]\n",
        "kurt = sum(kurtlist)\n",
        "skew = sum(skewlist)\n",
        "std = math.sqrt(abs(sum(stdlst)))\n",
        "stdround = round(std,3)\n",
        "kurt = kurt/(1*n*pow(std,4))\n",
        "skew = skew/(1*n*pow(std,3))\n",
        "kurtround = round(kurt,3)\n",
        "skewround = round(skew, 3)\n",
        "print(mean,median,stdround,kurtround, skewround)"
      ],
      "metadata": {
        "id": "IlOLXqvJ48K8",
        "outputId": "6c7410b0-8b4d-4210-f315-abe2e3311f0f",
        "colab": {
          "base_uri": "https://localhost:8080/"
        }
      },
      "execution_count": 54,
      "outputs": [
        {
          "output_type": "stream",
          "name": "stdout",
          "text": [
            "1,2,3,4,5,6,7,8,9,10\n",
            "7,6,5,4,5,6,7,8,9,10\n",
            "3.65 8.25 3.21\n",
            "0.709\n",
            "[1, 2, 3, 4, 5, 6, 7, 8, 9, 10] 10\n",
            "5.5 5.5 3.028 1.438 0.0\n"
          ]
        }
      ]
    },
    {
      "cell_type": "code",
      "source": [
        ""
      ],
      "metadata": {
        "id": "mUQOnvx37UB8"
      },
      "execution_count": null,
      "outputs": []
    }
  ]
}